{
 "cells": [
  {
   "cell_type": "markdown",
   "id": "36f7fa82",
   "metadata": {},
   "source": [
    "### Week 1 practice notebook\n",
    "\n",
    "Data types & math, lists/arrays/dictionaries, matplotlib"
   ]
  },
  {
   "cell_type": "markdown",
   "id": "10425cb1",
   "metadata": {},
   "source": [
    "You will need the numpy and matplotlib modules in this notebook; start by importing them"
   ]
  },
  {
   "cell_type": "code",
   "execution_count": 1,
   "id": "11fcccb9",
   "metadata": {},
   "outputs": [],
   "source": [
    "# Add import statements\n",
    "import numpy as  np\n",
    "import matplotlib.pyplot as plt"
   ]
  },
  {
   "cell_type": "markdown",
   "id": "41446672",
   "metadata": {},
   "source": [
    "#### **Part 1**\n",
    "Create variables to store the values of Avogadro's number and the atomic mass of oxygen"
   ]
  },
  {
   "cell_type": "code",
   "execution_count": 15,
   "id": "1b0048fb",
   "metadata": {},
   "outputs": [],
   "source": [
    "Na = 6.022e23 # per mole\n",
    "O_amu = 16 # g/mol"
   ]
  },
  {
   "cell_type": "markdown",
   "id": "07cf5d73",
   "metadata": {},
   "source": [
    "Use your variables to calculate the number of molecules in 25 grams of O2. Create a new variable with this value."
   ]
  },
  {
   "cell_type": "code",
   "execution_count": 16,
   "id": "625f6484",
   "metadata": {},
   "outputs": [
    {
     "data": {
      "text/plain": [
       "4.7046875e+23"
      ]
     },
     "execution_count": 16,
     "metadata": {},
     "output_type": "execute_result"
    }
   ],
   "source": [
    "O2_molec = 25 / (2*O_amu) * Na\n",
    "O2_molec"
   ]
  },
  {
   "cell_type": "markdown",
   "id": "53bcb3ea",
   "metadata": {},
   "source": [
    "Create a string saying \"There are __ molecules in 25 grams of O2\", where __ is filled in with the correct value."
   ]
  },
  {
   "cell_type": "code",
   "execution_count": 17,
   "id": "716e25fd",
   "metadata": {},
   "outputs": [
    {
     "data": {
      "text/plain": [
       "'There are 4.7046875e+23 molecules in 25 grams of O2'"
      ]
     },
     "execution_count": 17,
     "metadata": {},
     "output_type": "execute_result"
    }
   ],
   "source": [
    "\"There are \" + str(O2_molec) + \" molecules in 25 grams of O2\""
   ]
  },
  {
   "cell_type": "markdown",
   "id": "0f7ce984",
   "metadata": {},
   "source": [
    "Say you have 3 samples of O2 containing 8, 120, and 844 grams.  Create an array to store these values."
   ]
  },
  {
   "cell_type": "code",
   "execution_count": 118,
   "id": "925ae8a3",
   "metadata": {},
   "outputs": [],
   "source": [
    "O2_wts = np.array([8,120,844])"
   ]
  },
  {
   "cell_type": "markdown",
   "id": "1537bc34",
   "metadata": {},
   "source": [
    "Now use the array to calculate the number of moles in each sample, and assign the resulting array to a new variable."
   ]
  },
  {
   "cell_type": "code",
   "execution_count": null,
   "id": "9448789d",
   "metadata": {},
   "outputs": [],
   "source": [
    "O2_moles = O2_wts  / (2*O_amu) \n",
    "O2_moles"
   ]
  },
  {
   "cell_type": "markdown",
   "id": "5fee3062",
   "metadata": {},
   "source": [
    "Calculate the mean number of moles in your three O2 samples."
   ]
  },
  {
   "cell_type": "code",
   "execution_count": null,
   "id": "9d75b9c3",
   "metadata": {},
   "outputs": [
    {
     "data": {
      "text/plain": [
       "10.125"
      ]
     },
     "execution_count": 24,
     "metadata": {},
     "output_type": "execute_result"
    }
   ],
   "source": [
    "mean_O2_mole = np.mean(O2_moles)\n",
    "mean_O2_mole"
   ]
  },
  {
   "cell_type": "markdown",
   "id": "2c36295b",
   "metadata": {},
   "source": [
    "#### **Part 2**\n",
    "\n",
    "You have made spectrophotometry measurements of a sample at 300, 400, 500, and 600 nm wavelengths.  Create an array to store these wavelengths"
   ]
  },
  {
   "cell_type": "code",
   "execution_count": 35,
   "id": "89e013cf",
   "metadata": {},
   "outputs": [],
   "source": [
    "wls = np.array([300,400,500,600]) # nm"
   ]
  },
  {
   "cell_type": "markdown",
   "id": "abbe2de3",
   "metadata": {},
   "source": [
    "What constants do you need to convert from wavelength to photon energy? Define them here."
   ]
  },
  {
   "cell_type": "code",
   "execution_count": 89,
   "id": "83617fd6",
   "metadata": {},
   "outputs": [],
   "source": [
    "hh = 6.626e-34 # J/Hz\n",
    "cc = 2.9979e8 # m/s"
   ]
  },
  {
   "cell_type": "markdown",
   "id": "f34bb521",
   "metadata": {},
   "source": [
    "Calculate the photon energy for each wavelength"
   ]
  },
  {
   "cell_type": "code",
   "execution_count": null,
   "id": "9791c8cd",
   "metadata": {},
   "outputs": [
    {
     "data": {
      "text/plain": [
       "array([6.62136180e-19, 4.96602135e-19, 3.97281708e-19, 3.31068090e-19])"
      ]
     },
     "execution_count": 90,
     "metadata": {},
     "output_type": "execute_result"
    }
   ],
   "source": [
    "wls_m = wls*1e-9 # convert wavelengths from nm to meters\n",
    "photon_E = hh*cc/wls_m # J\n",
    "photon_E "
   ]
  },
  {
   "cell_type": "markdown",
   "id": "00f4c307",
   "metadata": {},
   "source": [
    "Below is a list containing the measured transmittance values (listed in order of increasing wavelength).  Calculate the absorbance at each wavelength."
   ]
  },
  {
   "cell_type": "code",
   "execution_count": 99,
   "id": "904d890c",
   "metadata": {},
   "outputs": [],
   "source": [
    "trnsmt = [0.81, 0.92, 0.58, 0.87]"
   ]
  },
  {
   "cell_type": "code",
   "execution_count": 100,
   "id": "d62a3c43",
   "metadata": {},
   "outputs": [
    {
     "data": {
      "text/plain": [
       "array([0.21072103, 0.08338161, 0.54472718, 0.13926207])"
      ]
     },
     "execution_count": 100,
     "metadata": {},
     "output_type": "execute_result"
    }
   ],
   "source": [
    "abs = -np.log(trnsmt)\n",
    "abs"
   ]
  },
  {
   "cell_type": "markdown",
   "id": "368f6825",
   "metadata": {},
   "source": [
    "Make a plot showing absorbance vs. wavelength. Be sure to label your x and y axes!"
   ]
  },
  {
   "cell_type": "code",
   "execution_count": 101,
   "id": "225e28e5",
   "metadata": {},
   "outputs": [
    {
     "data": {
      "text/plain": [
       "Text(0, 0.5, 'Absorbance')"
      ]
     },
     "execution_count": 101,
     "metadata": {},
     "output_type": "execute_result"
    },
    {
     "data": {
      "image/png": "[encoded data removed]",
      "text/plain": [
       "<Figure size 640x480 with 1 Axes>"
      ]
     },
     "metadata": {},
     "output_type": "display_data"
    }
   ],
   "source": [
    "plt.plot(wls, abs)\n",
    "plt.xlabel(\"Wavelength (nm)\")\n",
    "plt.ylabel(\"Absorbance\")"
   ]
  },
  {
   "cell_type": "markdown",
   "id": "065532fb",
   "metadata": {},
   "source": [
    "From your list of absorbances, select just the value at 500 nm and store it in a new variable."
   ]
  },
  {
   "cell_type": "code",
   "execution_count": 102,
   "id": "5acba2f8",
   "metadata": {},
   "outputs": [
    {
     "data": {
      "text/plain": [
       "0.5447271754416722"
      ]
     },
     "execution_count": 102,
     "metadata": {},
     "output_type": "execute_result"
    }
   ],
   "source": [
    "# Select absorbance at 500nm\n",
    "abs_500 = abs[2]\n",
    "abs_500"
   ]
  },
  {
   "cell_type": "markdown",
   "id": "ee4e975e",
   "metadata": {},
   "source": [
    "Assuming a molar absorptivity of 0.2 M^-1 cm^-1 at 500 nm and a path length of 1 cm, calculate the concentration of your sample."
   ]
  },
  {
   "cell_type": "code",
   "execution_count": 103,
   "id": "dcb6ab97",
   "metadata": {},
   "outputs": [
    {
     "data": {
      "text/plain": [
       "2.7236358772083604"
      ]
     },
     "execution_count": 103,
     "metadata": {},
     "output_type": "execute_result"
    }
   ],
   "source": [
    "eps = 0.2 # M^-1 cm^-1\n",
    "pathlength = 1 # cm\n",
    "\n",
    "conc = abs_500/(eps*pathlength) # M \n",
    "conc "
   ]
  },
  {
   "cell_type": "markdown",
   "id": "8c4c9d49",
   "metadata": {},
   "source": [
    "#### **Part 3**\n",
    "\n",
    "Create variables to store the atomic mass (amu) of H, C, and O"
   ]
  },
  {
   "cell_type": "code",
   "execution_count": 104,
   "id": "eea9084c",
   "metadata": {},
   "outputs": [],
   "source": [
    "mass_H = 1\n",
    "mass_C = 12\n",
    "mass_O = 16"
   ]
  },
  {
   "cell_type": "markdown",
   "id": "497d4441",
   "metadata": {},
   "source": [
    "Use these to calculate the molar masses of the following molecules: CH4, H2O, CH3OH, and C6H6.  Assign the molar massses to new variables."
   ]
  },
  {
   "cell_type": "code",
   "execution_count": 105,
   "id": "39f73f30",
   "metadata": {},
   "outputs": [],
   "source": [
    "mass_CH4 = mass_C + 4*mass_H\n",
    "mass_H2O = mass_O + 2*mass_H \n",
    "mass_CH3OH = mass_C + mass_O + 4*mass_H \n",
    "mass_C6H6 = 6*mass_C + 6*mass_H"
   ]
  },
  {
   "cell_type": "markdown",
   "id": "615a0ca7",
   "metadata": {},
   "source": [
    "Create a dictionary to associate the name of each molecule with its molar mass."
   ]
  },
  {
   "cell_type": "code",
   "execution_count": 106,
   "id": "887f36f8",
   "metadata": {},
   "outputs": [
    {
     "data": {
      "text/plain": [
       "{'CH4': 16, 'H2O': 18, 'CH3OH': 32, 'C6H6': 78}"
      ]
     },
     "execution_count": 106,
     "metadata": {},
     "output_type": "execute_result"
    }
   ],
   "source": [
    "molec_masses = {'CH4': mass_CH4, 'H2O': mass_H2O, 'CH3OH': mass_CH3OH, 'C6H6': mass_C6H6}\n",
    "molec_masses"
   ]
  },
  {
   "cell_type": "markdown",
   "id": "88e47c5f",
   "metadata": {},
   "source": [
    "Print the keys from your newly-made dictionary"
   ]
  },
  {
   "cell_type": "code",
   "execution_count": 50,
   "id": "6a8d36f2",
   "metadata": {},
   "outputs": [
    {
     "data": {
      "text/plain": [
       "dict_keys(['CH4', 'H2O', 'CH3OH', 'C6H6'])"
      ]
     },
     "execution_count": 50,
     "metadata": {},
     "output_type": "execute_result"
    }
   ],
   "source": [
    "molec_masses.keys()"
   ]
  },
  {
   "cell_type": "markdown",
   "id": "012f83e1",
   "metadata": {},
   "source": [
    "Calculate the mass of a single CH3OH molecule in kilograms, using your dictionary to find the relevant molar mass"
   ]
  },
  {
   "cell_type": "code",
   "execution_count": 115,
   "id": "61a2ae3f",
   "metadata": {},
   "outputs": [],
   "source": [
    "amu_kg = 1 / Na / 1e3 # kg per amu\n",
    "mCH3OH_kg = molec_masses['CH3OH']*amu_kg"
   ]
  },
  {
   "cell_type": "markdown",
   "id": "7244f049",
   "metadata": {},
   "source": [
    "Calculate the time of flight of a singly ionized CH3OH cation through a drift region of 3 meters, assuming a 20 kV acceleration potential.  Be careful to put everything in SI units for your calculation."
   ]
  },
  {
   "cell_type": "code",
   "execution_count": null,
   "id": "a462245e",
   "metadata": {},
   "outputs": [
    {
     "data": {
      "text/plain": [
       "8.639080267318308e-06"
      ]
     },
     "execution_count": 52,
     "metadata": {},
     "output_type": "execute_result"
    }
   ],
   "source": [
    "driftlength = 3 # m\n",
    "voltage = 20 * 1e3 # volts\n",
    "ee = 1.602e-19 # coulombs\n",
    "mz = mCH3OH_kg / 1 # mass to charge (kg) for singly ionized molecule\n",
    "\n",
    "TOF = np.sqrt(mz) * driftlength / np.sqrt(2*ee*voltage)\n",
    "TOF"
   ]
  },
  {
   "cell_type": "markdown",
   "id": "5d8b3cbc",
   "metadata": {},
   "source": [
    "Print a string saying \"The time of flight of methanol is __ milliseconds\", where __ contains the correct value"
   ]
  },
  {
   "cell_type": "code",
   "execution_count": 47,
   "id": "ffdd1ac1",
   "metadata": {},
   "outputs": [
    {
     "data": {
      "text/plain": [
       "'The time of flight of methanol is 8.639080267318308 milliseconds.'"
      ]
     },
     "execution_count": 47,
     "metadata": {},
     "output_type": "execute_result"
    }
   ],
   "source": [
    "\"The time of flight of methanol is \" + str(TOF*1e6) + \" milliseconds.\""
   ]
  },
  {
   "cell_type": "markdown",
   "id": "6ae90f0e",
   "metadata": {},
   "source": [
    "#### **Part 4**\n",
    "\n",
    "Run the cell below to generate a fake data set for us to work with."
   ]
  },
  {
   "cell_type": "code",
   "execution_count": 83,
   "id": "391bdab3",
   "metadata": {},
   "outputs": [],
   "source": [
    "random_data = np.random.normal(8,1,31)"
   ]
  },
  {
   "cell_type": "markdown",
   "id": "a97b6c4c",
   "metadata": {},
   "source": [
    "Plot a histogram of the data distribution.  By eye, what do you think the mean value of the data set is?"
   ]
  },
  {
   "cell_type": "code",
   "execution_count": 87,
   "id": "be5b886f",
   "metadata": {},
   "outputs": [
    {
     "data": {
      "text/plain": [
       "Text(0, 0.5, 'Counts')"
      ]
     },
     "execution_count": 87,
     "metadata": {},
     "output_type": "execute_result"
    },
    {
     "data": {
      "image/png": "[encoded data removed]",
      "text/plain": [
       "<Figure size 640x480 with 1 Axes>"
      ]
     },
     "metadata": {},
     "output_type": "display_data"
    }
   ],
   "source": [
    "plt.hist(random_data)\n",
    "plt.xlabel(\"Values\")\n",
    "plt.ylabel(\"Counts\")"
   ]
  },
  {
   "cell_type": "markdown",
   "id": "f1d039cb",
   "metadata": {},
   "source": [
    "What do you think the different arguments do in the function np.random.normal()?  Try changing the values and see what happens."
   ]
  },
  {
   "cell_type": "markdown",
   "id": "02307c16",
   "metadata": {},
   "source": [
    "Calculate the mean, standard deviation, and number of samples in the data set"
   ]
  },
  {
   "cell_type": "code",
   "execution_count": 85,
   "id": "7389251a",
   "metadata": {},
   "outputs": [
    {
     "name": "stdout",
     "output_type": "stream",
     "text": [
      "8.231559390388282\n",
      "1.015877456582468\n",
      "31\n"
     ]
    }
   ],
   "source": [
    "mean_data = np.mean(random_data)\n",
    "std_data = np.std(random_data)\n",
    "N_data = len(random_data)\n",
    "print(mean_data)\n",
    "print(std_data)\n",
    "print(N_data)"
   ]
  },
  {
   "cell_type": "markdown",
   "id": "3eb28b5e",
   "metadata": {},
   "source": [
    "Use these values to calculate the 95% confidence interval for this data set."
   ]
  },
  {
   "cell_type": "code",
   "execution_count": null,
   "id": "808575b6",
   "metadata": {},
   "outputs": [
    {
     "name": "stdout",
     "output_type": "stream",
     "text": [
      "7.858982242513619 8.604136538262946\n"
     ]
    }
   ],
   "source": [
    "## CI = mean +/- (student_t * std_dev / sqrt(N))\n",
    "# Define student t for N-1=30 DOF & 95% confidence level\n",
    "t_95p_30DOF = 2.042\n",
    "\n",
    "# Calculate interval width\n",
    "tu = t_95p_30DOF * std_data / np.sqrt(N_data)\n",
    "\n",
    "# Calculate lower & upper confidence interval\n",
    "CI_95_low = mean_data - tu \n",
    "CI_95_up = mean_data + tu\n",
    "print(CI_95_low, CI_95_up)"
   ]
  }
 ],
 "metadata": {
  "kernelspec": {
   "display_name": "base",
   "language": "python",
   "name": "python3"
  },
  "language_info": {
   "codemirror_mode": {
    "name": "ipython",
    "version": 3
   },
   "file_extension": ".py",
   "mimetype": "text/x-python",
   "name": "python",
   "nbconvert_exporter": "python",
   "pygments_lexer": "ipython3",
   "version": "3.10.15"
  }
 },
 "nbformat": 4,
 "nbformat_minor": 5
}
