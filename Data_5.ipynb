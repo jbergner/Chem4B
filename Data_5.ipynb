{
 "cells": [
  {
   "cell_type": "markdown",
   "id": "217d8d47",
   "metadata": {},
   "source": [
    "## Data lesson 5\n",
    "\n",
    "Today we will learn about making functions and fitting models to data."
   ]
  },
  {
   "cell_type": "code",
   "execution_count": null,
   "id": "3220cbc6",
   "metadata": {},
   "outputs": [],
   "source": [
    "# Add import statements\n",
    "import numpy as np\n",
    "import matplotlib.pyplot as plt"
   ]
  },
  {
   "cell_type": "markdown",
   "id": "b10694c0",
   "metadata": {},
   "source": [
    "#### **Functions in python**\n",
    "\n",
    "We have already used many functions in python: those that are built-in like `print()` and `len()`, and those that are imported from modules like `np.log()` or `np.max()`.\n",
    "\n",
    "These functions take some input value in parentheses, and provide some output in return.\n",
    "\n",
    "Sometimes we wish to do a task in python and there isn't a function we can import to do the task.  In this case, we can define a new function ourselves.\n",
    "\n",
    "This is useful for a couple of reasons.  First, we may want to do a task repeatedly and this allows us to reuse code throughout our program.\n",
    "\n",
    "As we will see later, we can also use our custom functions for fitting data with models.\n",
    "\n",
    "The basic syntax for defining a function is illustrated below."
   ]
  },
  {
   "cell_type": "code",
   "execution_count": null,
   "id": "2f6137e7",
   "metadata": {},
   "outputs": [],
   "source": [
    "def say_hello(num_greetings):\n",
    "    greeting = \"Hello!\"*num_greetings\n",
    "    return greeting"
   ]
  },
  {
   "cell_type": "markdown",
   "id": "9a316ba3",
   "metadata": {},
   "source": [
    "*Try calling the `say_hello()` function the way you would any other function.  It will accept any integer as an argument.*"
   ]
  },
  {
   "cell_type": "code",
   "execution_count": null,
   "id": "a7a689ec",
   "metadata": {},
   "outputs": [],
   "source": [
    "# Add code here\n"
   ]
  },
  {
   "cell_type": "markdown",
   "id": "94b731b2",
   "metadata": {},
   "source": [
    "We now have an easy and flexible way to make a new string that says \"Hello!\" as many times as we wish.\n",
    "\n",
    "Let's unpack the general structure of defining a function:\n",
    "* `def` followed by the name of the function.  Like a variable, the function can be named (almost) anything.  In this case it is `say_hello`\n",
    "* A set of parentheses to indicate the arguments accepted by the function (if any). In this case, the function accepts one argument: `num_greetings`.\n",
    "* First line ends with a colon\n",
    "* The next block of text is indented and represents the *executable* code.  This is the part that we want to have carried out each time we run the function.  In this case, it produces a string containing a number of `Hello!`'s.\n",
    "* Each time the function is called, any argument variables take on whatever value was assigned to them during the function call.  In this case, `num_greetings` takes on an integer value defined when the function is called.\n",
    "* The last line `return`s whatever output we are interested in.  A `return` statement is not required, but is usually useful if you want to do something based on the code you have executed."
   ]
  },
  {
   "cell_type": "markdown",
   "id": "780eac67",
   "metadata": {},
   "source": [
    "Let's try another example. We'll make a function to convert between Farenheit and Celsius temperature scales.\n",
    "\n",
    "*Below is the executable part of the code.  Create a new function `FtoC` that takes `temp_F` as an argument and returns `temp_C`.*"
   ]
  },
  {
   "cell_type": "code",
   "execution_count": null,
   "id": "f67dbb07",
   "metadata": {},
   "outputs": [],
   "source": [
    "# Expand into a function\n",
    "temp_C = (temp_F-32)*5/9"
   ]
  },
  {
   "cell_type": "markdown",
   "id": "d12311a9",
   "metadata": {},
   "source": [
    "*Now try calling your function `FtoC` for a few different temperatures.*"
   ]
  },
  {
   "cell_type": "code",
   "execution_count": null,
   "id": "2d83c92d",
   "metadata": {},
   "outputs": [],
   "source": [
    "# Add code here"
   ]
  },
  {
   "cell_type": "markdown",
   "id": "5d45971c",
   "metadata": {},
   "source": [
    "Now we'll try an example where the function receives multiple arguments.  \n",
    "\n",
    "*Create a function `add_two_numbers` to add two numbers `a` and `b` together and return the `sum`.*"
   ]
  },
  {
   "cell_type": "code",
   "execution_count": null,
   "id": "11d44d57",
   "metadata": {},
   "outputs": [],
   "source": [
    "# Expand into a function\n",
    "sum = a + b\n",
    "\n",
    "# Test out your new function here\n"
   ]
  },
  {
   "cell_type": "markdown",
   "id": "7c322f50",
   "metadata": {},
   "source": [
    "Functions can also return multiple values.\n",
    "\n",
    "*Create a function to input a string and output new strings with `cats` and `dogs` added to the end of the original.*"
   ]
  },
  {
   "cell_type": "code",
   "execution_count": null,
   "id": "7ed36eac",
   "metadata": {},
   "outputs": [],
   "source": [
    "# Expand into a function\n",
    "word1 = word + 'cats'\n",
    "word2 = word + 'dogs'"
   ]
  },
  {
   "cell_type": "markdown",
   "id": "4b3c666f",
   "metadata": {},
   "source": [
    "Ok, now one fully on your own: \n",
    "*Create a function corresponding to a linear relationship (y=mx+b).  It should accept as arguments an x value, slope, and intercept, and return a y value.*"
   ]
  },
  {
   "cell_type": "code",
   "execution_count": null,
   "id": "de1b05df",
   "metadata": {},
   "outputs": [],
   "source": [
    "# Add code here"
   ]
  },
  {
   "cell_type": "markdown",
   "id": "5b46c562",
   "metadata": {},
   "source": [
    "Let's test out your new function: \n",
    "\n",
    "*Make an array corresponding to x data points ranging from 1-10. Pass it to the function along with a slope & intercept to determine the y data points.*\n",
    "\n",
    "*Make a plot of y vs x.*"
   ]
  },
  {
   "cell_type": "code",
   "execution_count": null,
   "id": "9476eac7",
   "metadata": {},
   "outputs": [],
   "source": [
    "# Add code here\n"
   ]
  },
  {
   "cell_type": "markdown",
   "id": "4faa923b",
   "metadata": {},
   "source": [
    "It is useful for many reasons to create your own functions in python.  It can save you time, keep things organized, and make your code shorter and easier to work with.\n",
    "\n",
    "The rest of today, we will focus on another use case: using custom functions to fit data in python."
   ]
  },
  {
   "cell_type": "markdown",
   "id": "13bd2014",
   "metadata": {},
   "source": [
    "#### **Fitting data**\n",
    "\n",
    "In lecture, we already talked about the idea of *least squares fitting*, in the context of fitting a line (y=mx+b) to a calibration curve.\n",
    "\n",
    "This is a specific example of *optimization*: we try to find the set of parameters (m,b) that makes the line describe the measured points as best as possible.\n",
    "\n",
    "In least squares fitting, the *metric* that we use to assesss goodness of fit is the sum of the squared errors.  The optimization problem is to minimize the squares of the deviations between the actual data and the output of an equation.\n",
    "\n",
    "The module `scipy.optimize` within the `scipy` library contains many functions for this type of optimization problem.  Today we will use `optimize.curve_fit()`, which is a very flexible and popular least-squares fitter.\n",
    "\n",
    "Below we import just the `curve_fit()` function from `scipy.optimize`."
   ]
  },
  {
   "cell_type": "code",
   "execution_count": null,
   "id": "79d2f446",
   "metadata": {},
   "outputs": [],
   "source": [
    "from scipy.optimize import curve_fit"
   ]
  },
  {
   "cell_type": "markdown",
   "id": "18c89e04",
   "metadata": {},
   "source": [
    "`curve_fit()` has a few required arguments:\n",
    "* `func`, the python function describing the equation to be fitted to the data\n",
    "* `xdata`, the independent variable that is being fitted\n",
    "* `ydata`, the dependent variable that is being fitted\n",
    "\n",
    "Let's try out curve_fit with some real data. \n",
    "\n",
    "*Load in the file `calibration_curve.txt` and store the data in new arrays for concentration & absorbance.*"
   ]
  },
  {
   "cell_type": "code",
   "execution_count": null,
   "id": "fc7c0041",
   "metadata": {},
   "outputs": [],
   "source": [
    "# Add code here\n"
   ]
  },
  {
   "cell_type": "markdown",
   "id": "0f3507c4",
   "metadata": {},
   "source": [
    "*Make a plot of concentration vs. absorbance*"
   ]
  },
  {
   "cell_type": "code",
   "execution_count": null,
   "id": "b7537971",
   "metadata": {},
   "outputs": [],
   "source": [
    "# Add code here"
   ]
  },
  {
   "cell_type": "markdown",
   "id": "4547dbfe",
   "metadata": {},
   "source": [
    "Our data looks like it will be well described by a line y(x)=mx+b.\n",
    "\n",
    " We already have a line function defined above, but let's make sure it is in the right format.\n",
    "\n",
    "* The first argument into the function *must* be the independent variable (x).  \n",
    "* Any other arguments are *free parameters* that will be varied in order to fit the equation to the data."
   ]
  },
  {
   "cell_type": "markdown",
   "id": "39fd46ee",
   "metadata": {},
   "source": [
    "Now we have everything we need to call `curve_fit()`. "
   ]
  },
  {
   "cell_type": "code",
   "execution_count": null,
   "id": "6a98c272",
   "metadata": {},
   "outputs": [],
   "source": [
    "params, pcov = curve_fit(line, concentration, absorbance)\n",
    "params"
   ]
  },
  {
   "cell_type": "markdown",
   "id": "548c8c67",
   "metadata": {},
   "source": [
    "`curve_fit()` returns two arrays, which we have assigned to the variables `params` and `pcov`. \n",
    "\n",
    "The first array contains the optimal parameter values.  They are in the same order as the order of arguments in our fitting function: in this case slope then intercept.\n",
    "\n",
    "*Compare the optimized slope & intercept to your plot above. Do they seem reasonable?*"
   ]
  },
  {
   "cell_type": "markdown",
   "id": "fa4980c5",
   "metadata": {},
   "source": [
    "It is often helpful to overplot the best-fit line with the measured data.\n",
    "\n",
    "We can produce a line based on the optimized parameters by using the fitting function provided to `curve_fit()`.\n",
    "\n",
    "Below we evaluate the function `line` at all of the concentrations (x values) of our measured data, using the slope & intercept determined from `curve_fit`. "
   ]
  },
  {
   "cell_type": "code",
   "execution_count": null,
   "id": "cfce6fa0",
   "metadata": {},
   "outputs": [],
   "source": [
    "# assigning the best-fit parameters to variables for convenience\n",
    "mm = params[0]\n",
    "bb = params[1]\n",
    "\n",
    "# calculating the best-fit line\n",
    "y_fit = line(concentration, mm,bb)"
   ]
  },
  {
   "cell_type": "markdown",
   "id": "4eddeadb",
   "metadata": {},
   "source": [
    "*Make a scatter plot of the measured concentration vs. absorbance values.  Over-plot the concentration vs. best-fit line.*"
   ]
  },
  {
   "cell_type": "code",
   "execution_count": null,
   "id": "29f96bf1",
   "metadata": {},
   "outputs": [],
   "source": [
    "# Add code here"
   ]
  },
  {
   "cell_type": "markdown",
   "id": "0af90144",
   "metadata": {},
   "source": [
    "Let's say we have measured an unknown sample with an absorbance equal to 0.27.  \n",
    "\n",
    "We know that x = (y-b)/m\n",
    "\n",
    "*Calculate the concentration using the best-fit slope & intercept.*"
   ]
  },
  {
   "cell_type": "code",
   "execution_count": null,
   "id": "006ef4c1",
   "metadata": {},
   "outputs": [],
   "source": [
    "# Add code here\n"
   ]
  },
  {
   "cell_type": "markdown",
   "id": "facf17ca",
   "metadata": {},
   "source": [
    "The second array returned by `curve_fit()` is the covariance matrix.  If we diagonalize this we obtain the *one-standard-deviation errors* for each fit parameter.  \n",
    "\n",
    "Don't worry if you don't know about diagonalizing matrices; you can just copy the code below and know that the result corresponds to the parameter uncertainties.\n",
    "\n",
    "Knowing the uncertainty on slope & intercept allows us to propagate error in subsequent calculations!"
   ]
  },
  {
   "cell_type": "code",
   "execution_count": null,
   "id": "7e67287d",
   "metadata": {},
   "outputs": [],
   "source": [
    "errors = np.sqrt(np.diag(pcov))\n",
    "print(errors)"
   ]
  },
  {
   "cell_type": "markdown",
   "id": "3ebb7a92",
   "metadata": {},
   "source": [
    "Let's try another example.  We will consider fitting a noisy absorption band with a Gaussian profile.  \n",
    "\n",
    "This could be useful if we are trying to determine the peak absorbance and wavelength of peak absorbance, but it is too noisy to read directly off the plot.\n",
    "\n",
    "*Load the data from the file `noisy_spectrum.txt`.  Store the wavelength and absorbance as 1D arrays.  Plot it to check what the data looks like.*"
   ]
  },
  {
   "cell_type": "code",
   "execution_count": null,
   "id": "34078ddf",
   "metadata": {},
   "outputs": [],
   "source": [
    "# Add code here\n"
   ]
  },
  {
   "cell_type": "markdown",
   "id": "0694089f",
   "metadata": {},
   "source": [
    "Next we will need the function with which to fit our data.\n",
    "\n",
    "*Complete the function for a Gaussian profile using the executable code below, where `xx` is the independent variable.  Be sure your arguments are ordered correctly to use with `curve_fit()`!*"
   ]
  },
  {
   "cell_type": "code",
   "execution_count": null,
   "id": "ae7793eb",
   "metadata": {},
   "outputs": [],
   "source": [
    "# Complete the function\n",
    "ygauss = amplitude*np.exp(-(xx-center)**2/(2*width)**2)"
   ]
  },
  {
   "cell_type": "markdown",
   "id": "1a0f5d28",
   "metadata": {},
   "source": [
    "*Now try calling curve_fit() using the Gaussian function and the spectral data.  What are the best-fit parameters?*"
   ]
  },
  {
   "cell_type": "code",
   "execution_count": null,
   "id": "b6444d29",
   "metadata": {},
   "outputs": [],
   "source": [
    "# Add code here"
   ]
  },
  {
   "cell_type": "markdown",
   "id": "f4f7fc09",
   "metadata": {},
   "source": [
    "Hmm, this time it doesn't look so good.\n",
    "\n",
    "A useful feature of `curve_fit` is that we can provide a \"guess\" of what we think the parameter values should be.  \n",
    "\n",
    "This can help the algorithm converge when the fit is more challenging.  It is good practice to include when you use `curve_fit()`.\n",
    "\n",
    "Try running `curve_fit()` again, this time adding the keyword argument `p0=[guess1,guess2]`.  The list contains our guesses for the free parameters in the same order as they are listed in the function, in this case: amplitude, center, width"
   ]
  },
  {
   "cell_type": "code",
   "execution_count": null,
   "id": "b757b7b2",
   "metadata": {},
   "outputs": [],
   "source": [
    "# Add code here\n"
   ]
  },
  {
   "cell_type": "markdown",
   "id": "23a960a9",
   "metadata": {},
   "source": [
    "Much better! Note that your guesses don't need to be perfect for this to work.\n",
    "\n",
    "*Overplot the best-fit line on top of your measured data.*"
   ]
  },
  {
   "cell_type": "code",
   "execution_count": null,
   "id": "96ff38e9",
   "metadata": {},
   "outputs": [],
   "source": [
    "# Add code here"
   ]
  },
  {
   "cell_type": "markdown",
   "id": "b660f281",
   "metadata": {},
   "source": [
    "There are other features of `curve_fit()` that can come in handy if you have challenging data to fit.  This includes setting bounds on the values of the free parameters and adding an uncertainty specific to each value.  We won't go into detail here, but check out the documentation for more information.\n",
    "\n",
    "Another important note is that our fitting will only describe the data as well as the function will allow it to!  If we use a bad model or equation, then no amount of parameter optimization will make it fit the data.\n",
    "\n",
    "*Try fitting the `noisy_spectrum` data with your `line()` function instead.  Does it give a meaningful answer?*"
   ]
  },
  {
   "cell_type": "code",
   "execution_count": null,
   "id": "c3c85a56",
   "metadata": {},
   "outputs": [],
   "source": [
    "# Add code here"
   ]
  },
  {
   "cell_type": "markdown",
   "id": "d95af332",
   "metadata": {},
   "source": [
    "#### **Try it yourself**\n",
    "\n",
    "Try loading in the file `rate.txt` and fitting the concentration curve to a first-order rate law: [A] = [A]_0 exp(-kt)"
   ]
  },
  {
   "cell_type": "code",
   "execution_count": null,
   "id": "b9dad7d6",
   "metadata": {},
   "outputs": [],
   "source": [
    "# Add code here"
   ]
  },
  {
   "cell_type": "code",
   "execution_count": null,
   "id": "a2606528",
   "metadata": {},
   "outputs": [],
   "source": []
  }
 ],
 "metadata": {
  "kernelspec": {
   "display_name": "base",
   "language": "python",
   "name": "python3"
  },
  "language_info": {
   "codemirror_mode": {
    "name": "ipython",
    "version": 3
   },
   "file_extension": ".py",
   "mimetype": "text/x-python",
   "name": "python",
   "nbconvert_exporter": "python",
   "pygments_lexer": "ipython3",
   "version": "3.10.15"
  }
 },
 "nbformat": 4,
 "nbformat_minor": 5
}
