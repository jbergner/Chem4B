{
 "cells": [
  {
   "cell_type": "markdown",
   "id": "36f7fa82",
   "metadata": {},
   "source": [
    "### Week 1 practice notebook\n",
    "\n",
    "Data types & math, lists/arrays/dictionaries, matplotlib"
   ]
  },
  {
   "cell_type": "markdown",
   "id": "10425cb1",
   "metadata": {},
   "source": [
    "You will need the numpy and matplotlib modules in this notebook; start by importing them"
   ]
  },
  {
   "cell_type": "code",
   "execution_count": null,
   "id": "11fcccb9",
   "metadata": {},
   "outputs": [],
   "source": [
    "# Add import statements"
   ]
  },
  {
   "cell_type": "markdown",
   "id": "41446672",
   "metadata": {},
   "source": [
    "#### **Part 1**\n",
    "Create variables to store the values of Avogadro's number and the atomic mass of oxygen"
   ]
  },
  {
   "cell_type": "code",
   "execution_count": null,
   "id": "1b0048fb",
   "metadata": {},
   "outputs": [],
   "source": []
  },
  {
   "cell_type": "markdown",
   "id": "07cf5d73",
   "metadata": {},
   "source": [
    "Use your variables to calculate the number of molecules in 25 grams of O2. Create a new variable with this value."
   ]
  },
  {
   "cell_type": "code",
   "execution_count": null,
   "id": "625f6484",
   "metadata": {},
   "outputs": [],
   "source": []
  },
  {
   "cell_type": "markdown",
   "id": "53bcb3ea",
   "metadata": {},
   "source": [
    "Create a string saying \"There are __ molecules in 25 grams of O2\", where __ is filled in with the correct value."
   ]
  },
  {
   "cell_type": "code",
   "execution_count": null,
   "id": "716e25fd",
   "metadata": {},
   "outputs": [],
   "source": []
  },
  {
   "cell_type": "markdown",
   "id": "0f7ce984",
   "metadata": {},
   "source": [
    "Say you have 3 samples of O2 containing 8, 120, and 844 grams.  Create an array to store these values."
   ]
  },
  {
   "cell_type": "code",
   "execution_count": null,
   "id": "925ae8a3",
   "metadata": {},
   "outputs": [],
   "source": []
  },
  {
   "cell_type": "markdown",
   "id": "6fea2632",
   "metadata": {},
   "source": [
    "Now use the array to calculate the number of moles in each sample, and assign the resulting array to a new variable."
   ]
  },
  {
   "cell_type": "code",
   "execution_count": null,
   "id": "8ec6c19e",
   "metadata": {},
   "outputs": [],
   "source": []
  },
  {
   "cell_type": "markdown",
   "id": "5fee3062",
   "metadata": {},
   "source": [
    "Calculate the mean number of moles in your three O2 samples."
   ]
  },
  {
   "cell_type": "code",
   "execution_count": null,
   "id": "9d75b9c3",
   "metadata": {},
   "outputs": [],
   "source": []
  },
  {
   "cell_type": "markdown",
   "id": "2c36295b",
   "metadata": {},
   "source": [
    "#### **Part 2**\n",
    "\n",
    "You have made spectrophotometry measurements of a sample at 300, 400, 500, and 600 nm wavelengths.  Create an array to store these wavelengths"
   ]
  },
  {
   "cell_type": "code",
   "execution_count": null,
   "id": "89e013cf",
   "metadata": {},
   "outputs": [],
   "source": []
  },
  {
   "cell_type": "markdown",
   "id": "abbe2de3",
   "metadata": {},
   "source": [
    "What constants do you need to convert from wavelength to photon energy? Define them here."
   ]
  },
  {
   "cell_type": "code",
   "execution_count": null,
   "id": "83617fd6",
   "metadata": {},
   "outputs": [],
   "source": []
  },
  {
   "cell_type": "markdown",
   "id": "f34bb521",
   "metadata": {},
   "source": [
    "Calculate the photon energy for each wavelength"
   ]
  },
  {
   "cell_type": "code",
   "execution_count": null,
   "id": "9791c8cd",
   "metadata": {},
   "outputs": [],
   "source": []
  },
  {
   "cell_type": "markdown",
   "id": "00f4c307",
   "metadata": {},
   "source": [
    "Below is a list containing the measured transmittance values (listed in order of increasing wavelength).  Calculate the absorbance at each wavelength."
   ]
  },
  {
   "cell_type": "code",
   "execution_count": null,
   "id": "904d890c",
   "metadata": {},
   "outputs": [],
   "source": [
    "trnsmt = [0.81, 0.92, 0.58, 0.87]"
   ]
  },
  {
   "cell_type": "code",
   "execution_count": null,
   "id": "d62a3c43",
   "metadata": {},
   "outputs": [],
   "source": []
  },
  {
   "cell_type": "markdown",
   "id": "368f6825",
   "metadata": {},
   "source": [
    "Make a plot showing absorbance vs. wavelength. Be sure to label your x and y axes!"
   ]
  },
  {
   "cell_type": "code",
   "execution_count": null,
   "id": "225e28e5",
   "metadata": {},
   "outputs": [],
   "source": []
  },
  {
   "cell_type": "markdown",
   "id": "065532fb",
   "metadata": {},
   "source": [
    "From your list of absorbances, select just the value at 500 nm and store it in a new variable."
   ]
  },
  {
   "cell_type": "code",
   "execution_count": null,
   "id": "5acba2f8",
   "metadata": {},
   "outputs": [],
   "source": []
  },
  {
   "cell_type": "markdown",
   "id": "ee4e975e",
   "metadata": {},
   "source": [
    "Assuming a molar absorptivity of 0.2 M^-1 cm^-1 at 500 nm and a path length of 1 cm, calculate the concentration of your sample."
   ]
  },
  {
   "cell_type": "code",
   "execution_count": null,
   "id": "dcb6ab97",
   "metadata": {},
   "outputs": [],
   "source": []
  },
  {
   "cell_type": "markdown",
   "id": "8c4c9d49",
   "metadata": {},
   "source": [
    "#### **Part 3**\n",
    "\n",
    "Create variables to store the atomic mass (amu) of H, C, and O"
   ]
  },
  {
   "cell_type": "code",
   "execution_count": null,
   "id": "eea9084c",
   "metadata": {},
   "outputs": [],
   "source": []
  },
  {
   "cell_type": "markdown",
   "id": "497d4441",
   "metadata": {},
   "source": [
    "Use these to calculate the molar masses of the following molecules: CH4, H2O, CH3OH, and C6H6.  Assign the molar massses to new variables."
   ]
  },
  {
   "cell_type": "code",
   "execution_count": null,
   "id": "39f73f30",
   "metadata": {},
   "outputs": [],
   "source": []
  },
  {
   "cell_type": "markdown",
   "id": "615a0ca7",
   "metadata": {},
   "source": [
    "Create a dictionary to associate the name of each molecule with its molar mass."
   ]
  },
  {
   "cell_type": "code",
   "execution_count": null,
   "id": "887f36f8",
   "metadata": {},
   "outputs": [],
   "source": []
  },
  {
   "cell_type": "markdown",
   "id": "88e47c5f",
   "metadata": {},
   "source": [
    "Print the keys from your newly-made dictionary"
   ]
  },
  {
   "cell_type": "code",
   "execution_count": null,
   "id": "6a8d36f2",
   "metadata": {},
   "outputs": [],
   "source": []
  },
  {
   "cell_type": "markdown",
   "id": "012f83e1",
   "metadata": {},
   "source": [
    "Calculate the mass of a single CH3OH molecule in kilograms, using your dictionary to find the relevant molar mass"
   ]
  },
  {
   "cell_type": "code",
   "execution_count": null,
   "id": "61a2ae3f",
   "metadata": {},
   "outputs": [],
   "source": []
  },
  {
   "cell_type": "markdown",
   "id": "7244f049",
   "metadata": {},
   "source": [
    "Calculate the time of flight of a singly ionized CH3OH cation through a drift region of 3 meters, assuming a 20 kV acceleration potential.  Be careful to put everything in SI units for your calculation."
   ]
  },
  {
   "cell_type": "code",
   "execution_count": null,
   "id": "a462245e",
   "metadata": {},
   "outputs": [],
   "source": []
  },
  {
   "cell_type": "markdown",
   "id": "5d8b3cbc",
   "metadata": {},
   "source": [
    "Print a string saying \"The time of flight of methanol is __ milliseconds\", where __ contains the correct value"
   ]
  },
  {
   "cell_type": "code",
   "execution_count": null,
   "id": "ffdd1ac1",
   "metadata": {},
   "outputs": [],
   "source": []
  },
  {
   "cell_type": "markdown",
   "id": "6ae90f0e",
   "metadata": {},
   "source": [
    "#### **Part 4**\n",
    "\n",
    "Run the cell below to generate a fake data set for us to work with."
   ]
  },
  {
   "cell_type": "code",
   "execution_count": null,
   "id": "391bdab3",
   "metadata": {},
   "outputs": [],
   "source": [
    "random_data = np.random.normal(8,1,31)"
   ]
  },
  {
   "cell_type": "markdown",
   "id": "a97b6c4c",
   "metadata": {},
   "source": [
    "Plot a histogram of the data distribution.  By eye, what do you think the mean value of the data set is?"
   ]
  },
  {
   "cell_type": "code",
   "execution_count": null,
   "id": "be5b886f",
   "metadata": {},
   "outputs": [],
   "source": []
  },
  {
   "cell_type": "markdown",
   "id": "f1d039cb",
   "metadata": {},
   "source": [
    "What do you think the different arguments do in the function np.random.normal()?  Try changing the values and see what happens."
   ]
  },
  {
   "cell_type": "markdown",
   "id": "02307c16",
   "metadata": {},
   "source": [
    "Calculate the mean, standard deviation, and number of samples in the data set"
   ]
  },
  {
   "cell_type": "code",
   "execution_count": null,
   "id": "7389251a",
   "metadata": {},
   "outputs": [],
   "source": []
  },
  {
   "cell_type": "markdown",
   "id": "3eb28b5e",
   "metadata": {},
   "source": [
    "Use these values to calculate the 95% confidence interval for this data set."
   ]
  },
  {
   "cell_type": "code",
   "execution_count": null,
   "id": "808575b6",
   "metadata": {},
   "outputs": [],
   "source": []
  }
 ],
 "metadata": {
  "kernelspec": {
   "display_name": "base",
   "language": "python",
   "name": "python3"
  },
  "language_info": {
   "codemirror_mode": {
    "name": "ipython",
    "version": 3
   },
   "file_extension": ".py",
   "mimetype": "text/x-python",
   "name": "python",
   "nbconvert_exporter": "python",
   "pygments_lexer": "ipython3",
   "version": "3.10.15"
  }
 },
 "nbformat": 4,
 "nbformat_minor": 5
}
