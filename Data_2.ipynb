{
 "cells": [
  {
   "cell_type": "markdown",
   "id": "217d8d47",
   "metadata": {},
   "source": [
    "## Data lesson 2\n",
    "\n",
    "Today we will learn about more advanced data structures: lists, arrays, and floats"
   ]
  },
  {
   "cell_type": "markdown",
   "id": "a35360c7",
   "metadata": {},
   "source": [
    "Go ahead and import numpy and math for today's lesson"
   ]
  },
  {
   "cell_type": "code",
   "execution_count": null,
   "id": "3220cbc6",
   "metadata": {},
   "outputs": [],
   "source": [
    "# Add import statements"
   ]
  },
  {
   "cell_type": "markdown",
   "id": "e6664e57",
   "metadata": {},
   "source": [
    "#### **Finishing up lesson 1**"
   ]
  },
  {
   "cell_type": "markdown",
   "id": "3974107d",
   "metadata": {},
   "source": [
    "You can use the built-in `help()` function to get more information about module or a specific function."
   ]
  },
  {
   "cell_type": "code",
   "execution_count": null,
   "id": "aa9e4bd4",
   "metadata": {},
   "outputs": [],
   "source": [
    "help(math)"
   ]
  },
  {
   "cell_type": "markdown",
   "id": "cb0a0262",
   "metadata": {},
   "source": [
    "You should see a lot of information about the `math` module, and also a link you to the online documentation."
   ]
  },
  {
   "cell_type": "markdown",
   "id": "1614d301",
   "metadata": {},
   "source": [
    "If you are done looking at the help information for now, but would like to keep it handy for later, you can click the vertical blue bar to the left of the output to collapse the output.  If you click it a second time, it will expand again.\n",
    "\n",
    "*Go back up to your `help(math)` cell and collapse the output.*"
   ]
  },
  {
   "cell_type": "markdown",
   "id": "6b232181",
   "metadata": {},
   "source": [
    "You can also use `help()` on an individual function.\n",
    "\n",
    "*Try out the example below.  What does `log10()` do?*"
   ]
  },
  {
   "cell_type": "code",
   "execution_count": null,
   "id": "100f3d3a",
   "metadata": {},
   "outputs": [],
   "source": [
    "help(np.log10)"
   ]
  },
  {
   "cell_type": "markdown",
   "id": "84e57022",
   "metadata": {},
   "source": [
    "It is convenient to use exponential notation for expressing very large or very small numbers.  To do so, use `eX` to indicate \"times 10^X\".  "
   ]
  },
  {
   "cell_type": "code",
   "execution_count": null,
   "id": "ddeecdaf",
   "metadata": {},
   "outputs": [],
   "source": [
    "bignumber = 1.75e10\n",
    "bignumber"
   ]
  },
  {
   "cell_type": "code",
   "execution_count": null,
   "id": "22a44f1a",
   "metadata": {},
   "outputs": [],
   "source": [
    "smallnumber = 1.75e-10\n",
    "smallnumber"
   ]
  },
  {
   "cell_type": "markdown",
   "id": "f338540b",
   "metadata": {},
   "source": [
    "#### **Lists**\n",
    "\n",
    "Lists are one way of storing multiple values in a single variable. They are defined using brackets `[]` with individual **elements** separated by commas."
   ]
  },
  {
   "cell_type": "code",
   "execution_count": null,
   "id": "1c0f50e4",
   "metadata": {},
   "outputs": [],
   "source": [
    "masses = [1.01, 4.00, 6.94, 9.01, 10.81, 14.01]\n",
    "masses"
   ]
  },
  {
   "cell_type": "markdown",
   "id": "7d7888b1",
   "metadata": {},
   "source": [
    "Lists are very flexible, in that a single list can \"hold\" multiple data types"
   ]
  },
  {
   "cell_type": "code",
   "execution_count": null,
   "id": "1bd5511a",
   "metadata": {},
   "outputs": [],
   "source": [
    "mix_list = [\"Berkeley\", masses, 6.022e23, \"gobears\"]\n",
    "mix_list"
   ]
  },
  {
   "cell_type": "markdown",
   "id": "e573ffd8",
   "metadata": {},
   "source": [
    "You can fetch a particular element using its **index**, which indicates its position in the list.\n",
    "\n",
    "The syntax for this is `list_name[index]`"
   ]
  },
  {
   "cell_type": "code",
   "execution_count": null,
   "id": "7ba57b59",
   "metadata": {},
   "outputs": [],
   "source": [
    "masses[1]"
   ]
  },
  {
   "cell_type": "code",
   "execution_count": null,
   "id": "f16c55e1",
   "metadata": {},
   "outputs": [],
   "source": [
    "mix_list[2]"
   ]
  },
  {
   "cell_type": "markdown",
   "id": "3b901c20",
   "metadata": {},
   "source": [
    "You may have noticed that an index=1 gave us the second element in `masses`.\n",
    "\n",
    "An index=2 gave us the third element in `mix_list`\n",
    "\n",
    "This is because **index numbering starts with 0!**\n",
    "\n",
    "(It's like how the 2nd floor of Latimer is the same level as the 1st floor of Lewis.  Lewis uses 0-indexing and Latimer uses 1-indexing)"
   ]
  },
  {
   "cell_type": "markdown",
   "id": "2b61195d",
   "metadata": {},
   "source": [
    "*Fetch the element* `\"gobears\"` *from* `mixlist`"
   ]
  },
  {
   "cell_type": "code",
   "execution_count": null,
   "id": "fd61c51b",
   "metadata": {},
   "outputs": [],
   "source": [
    "# Add code here"
   ]
  },
  {
   "cell_type": "markdown",
   "id": "204cf350",
   "metadata": {},
   "source": [
    "Keep in mind that ordering is very important for lists.  Lists remember the order of elements they contain, and you use this position to access elements individually"
   ]
  },
  {
   "cell_type": "markdown",
   "id": "31039ebe",
   "metadata": {},
   "source": [
    "You can retrieve multiple elements from a list simultaneously using list **slicing**.  \n",
    "\n",
    "The syntax for this is `[start:stop]`, where `start` is included and `stop` is excluded.\n",
    "\n",
    "If you ask for elements `[1:4]`, you will get the elements with indices 1, 2, and 3."
   ]
  },
  {
   "cell_type": "code",
   "execution_count": null,
   "id": "a757da7c",
   "metadata": {},
   "outputs": [],
   "source": [
    "masses[2:5]"
   ]
  },
  {
   "cell_type": "code",
   "execution_count": null,
   "id": "d62650b2",
   "metadata": {},
   "outputs": [],
   "source": [
    "masses[0:3]"
   ]
  },
  {
   "cell_type": "markdown",
   "id": "8b0b729d",
   "metadata": {},
   "source": [
    "It is also valid to do:\n",
    "\n",
    "* `[:stop]` : provides all elements up until the stop index (not inclusive)\n",
    "\n",
    "* `[start:]` : provides all elements after the start index (inclusive)"
   ]
  },
  {
   "cell_type": "markdown",
   "id": "2f3e4071",
   "metadata": {},
   "source": [
    "*Retrieve the atomic masses for all elements above helium (4)*"
   ]
  },
  {
   "cell_type": "code",
   "execution_count": null,
   "id": "480e52a7",
   "metadata": {},
   "outputs": [],
   "source": [
    "# Add code here"
   ]
  },
  {
   "cell_type": "markdown",
   "id": "96c95913",
   "metadata": {},
   "source": [
    "*Retrieve the atomic masses for all elements below nitrogen (14)*"
   ]
  },
  {
   "cell_type": "code",
   "execution_count": null,
   "id": "e98eb91f",
   "metadata": {},
   "outputs": [],
   "source": [
    "# Add code here"
   ]
  },
  {
   "cell_type": "markdown",
   "id": "14377875",
   "metadata": {},
   "source": [
    "We can measure the length of a list using the built-in function `len`"
   ]
  },
  {
   "cell_type": "code",
   "execution_count": null,
   "id": "0cc129c3",
   "metadata": {},
   "outputs": [],
   "source": [
    "len(masses)"
   ]
  },
  {
   "cell_type": "markdown",
   "id": "f4a17f67",
   "metadata": {},
   "source": [
    "Lists also have functions associated with them for performing common tasks.\n",
    "\n",
    "These functions which are specifically attached to lists are called list **methods**.\n",
    "\n",
    "One very useful one is `append()` which is used to add a new element to the end of a list\n",
    "\n",
    "Carbon is missing from our original list of masses, let's add it in now"
   ]
  },
  {
   "cell_type": "code",
   "execution_count": null,
   "id": "3c0bff4d",
   "metadata": {},
   "outputs": [],
   "source": [
    "masses.append(12.01)\n",
    "masses"
   ]
  },
  {
   "cell_type": "markdown",
   "id": "44780f9c",
   "metadata": {},
   "source": [
    "Now our list is out of order, which could be a problem for us.  We can use `sort()` to put it in order"
   ]
  },
  {
   "cell_type": "code",
   "execution_count": null,
   "id": "8b67dd6b",
   "metadata": {},
   "outputs": [],
   "source": [
    "masses.sort()\n",
    "masses"
   ]
  },
  {
   "cell_type": "markdown",
   "id": "58dd6561",
   "metadata": {},
   "source": [
    "You can also delete specific elements with `remove()`\n",
    "\n",
    "*Remove H from the list*"
   ]
  },
  {
   "cell_type": "code",
   "execution_count": null,
   "id": "8e5fe45b",
   "metadata": {},
   "outputs": [],
   "source": [
    "# Add code here"
   ]
  },
  {
   "cell_type": "markdown",
   "id": "25f097b6",
   "metadata": {},
   "source": [
    "You can find other list methods here: https://www.w3schools.com/python/python_lists_methods.asp\n",
    "\n",
    "For our purposes, it is important to know that:\n",
    "* Lists are a basic container that we can use to store values\n",
    "* They are flexible: they can store different data types and can change sizes\n",
    "* We can access individual elements of a list using indexing\n",
    "* `append` allows us to add new elements to a list.  This will become useful when we encounter `for` loops!"
   ]
  },
  {
   "cell_type": "markdown",
   "id": "c66bca6f",
   "metadata": {},
   "source": [
    "*Create a list containing the names of at least 4 different fruits*"
   ]
  },
  {
   "cell_type": "code",
   "execution_count": null,
   "id": "c84689ff",
   "metadata": {},
   "outputs": [],
   "source": []
  },
  {
   "cell_type": "markdown",
   "id": "5a128c50",
   "metadata": {},
   "source": [
    "*Print the element corresponding to your favorite fruit using its list index*"
   ]
  },
  {
   "cell_type": "code",
   "execution_count": null,
   "id": "55485053",
   "metadata": {},
   "outputs": [],
   "source": []
  },
  {
   "cell_type": "markdown",
   "id": "6e2dfa2a",
   "metadata": {},
   "source": [
    "*Sort your list of fruit alphabetically*"
   ]
  },
  {
   "cell_type": "code",
   "execution_count": null,
   "id": "354eaf90",
   "metadata": {},
   "outputs": [],
   "source": []
  },
  {
   "cell_type": "markdown",
   "id": "8a4ec2b1",
   "metadata": {},
   "source": [
    "*Remove the element corresponding to your least favorite fruit*"
   ]
  },
  {
   "cell_type": "code",
   "execution_count": null,
   "id": "024bbb7c",
   "metadata": {},
   "outputs": [],
   "source": []
  },
  {
   "cell_type": "markdown",
   "id": "5f4c9ad9",
   "metadata": {},
   "source": [
    "#### **Dictionaries**\n",
    "\n",
    "Dictionaries also data structures that allow us to store multiple values.\n",
    "\n",
    "Unlike lists, they are **unordered**.\n",
    "\n",
    "We keep track of different values by associating them with keys; these duos are called **key:value pairs**\n",
    "\n",
    "Dictionaries are useful when we want to access stored values with a key instead of using positional order"
   ]
  },
  {
   "cell_type": "code",
   "execution_count": null,
   "id": "02bbdc64",
   "metadata": {},
   "outputs": [],
   "source": [
    "mass_dict = {'H':1.01, 'He':4.00, 'Li':6.94, 'Be':9.01, 'B':10.81, 'C':14.01, 'N':14.01, 'O':16.00, 'F':19.00, 'Ne':20.18}\n",
    "mass_dict"
   ]
  },
  {
   "cell_type": "markdown",
   "id": "3ef00b4f",
   "metadata": {},
   "source": [
    "We can see that each value is explicitly linked to its key.\n",
    "\n",
    "Similar to how we retrieve an element in a list using its index, we retrieve a value from a dictionary using its key"
   ]
  },
  {
   "cell_type": "code",
   "execution_count": null,
   "id": "413cb10e",
   "metadata": {},
   "outputs": [],
   "source": [
    "mass_dict['O']"
   ]
  },
  {
   "cell_type": "markdown",
   "id": "87907527",
   "metadata": {},
   "source": [
    "We can also overwrite values and add new key:value pairs"
   ]
  },
  {
   "cell_type": "code",
   "execution_count": null,
   "id": "1f92ca9e",
   "metadata": {},
   "outputs": [],
   "source": [
    "mass_dict['C'] = 12.01\n",
    "mass_dict"
   ]
  },
  {
   "cell_type": "code",
   "execution_count": null,
   "id": "bcbb2d95",
   "metadata": {},
   "outputs": [],
   "source": [
    "mass_dict['Bk'] = 247\n",
    "mass_dict"
   ]
  },
  {
   "cell_type": "markdown",
   "id": "62464ea7",
   "metadata": {},
   "source": [
    "If you don't know the keys ahead of time, there is a method for that"
   ]
  },
  {
   "cell_type": "code",
   "execution_count": null,
   "id": "0b26a044",
   "metadata": {},
   "outputs": [],
   "source": [
    "mass_dict.keys()"
   ]
  },
  {
   "cell_type": "markdown",
   "id": "d2e0062b",
   "metadata": {},
   "source": [
    "While keys are often strings, they can also be numbers.\n",
    "\n",
    "Values can be any data type, including lists."
   ]
  },
  {
   "cell_type": "code",
   "execution_count": null,
   "id": "6946f9bb",
   "metadata": {},
   "outputs": [],
   "source": [
    "atomic_numbers = {1: \"H\", 2: \"He\", 3: \"B\", 4: \"Li\"}\n",
    "atomic_numbers"
   ]
  },
  {
   "cell_type": "code",
   "execution_count": null,
   "id": "44061043",
   "metadata": {},
   "outputs": [],
   "source": [
    "periodic_table = {'group_one' : ['H', 'Li', 'Na', 'K', 'Rb', 'Cs', 'Fr'], 'group_eight':['He', 'Ne', 'Ar', 'Kr', 'Xe', 'Rn']}\n",
    "periodic_table"
   ]
  },
  {
   "cell_type": "markdown",
   "id": "5f0d7a2d",
   "metadata": {},
   "source": [
    "*Use the dictionary above to find the element in row 4 and group 8 of the periodic table*"
   ]
  },
  {
   "cell_type": "code",
   "execution_count": null,
   "id": "1558c2f0",
   "metadata": {},
   "outputs": [],
   "source": [
    "# Add code here"
   ]
  },
  {
   "cell_type": "markdown",
   "id": "b72d9f6e",
   "metadata": {},
   "source": [
    "*Create a new dictionary containing element names as keys and their atomic symbol as values.*"
   ]
  },
  {
   "cell_type": "code",
   "execution_count": null,
   "id": "7b322012",
   "metadata": {},
   "outputs": [],
   "source": [
    "# Add code here"
   ]
  },
  {
   "cell_type": "markdown",
   "id": "d5d1673f",
   "metadata": {},
   "source": [
    "#### **Arrays**\n",
    "\n",
    "Arrays are (biased opinion) my favorite data structure!\n",
    "\n",
    "They can store multidimensional data and are in general excellent for scientific calculations.\n",
    "\n",
    "Array operations are performed using `numpy`, who we have already met.\n",
    "\n",
    "Creating a 1-dimensional array is similar to making a list.  Note though that each array can only hold elements with a single data type."
   ]
  },
  {
   "cell_type": "code",
   "execution_count": null,
   "id": "d2f90bf8",
   "metadata": {},
   "outputs": [],
   "source": [
    "data = np.array([0.5,1.7,0.6,0.2,0.4])\n",
    "data"
   ]
  },
  {
   "cell_type": "markdown",
   "id": "d64c5e1e",
   "metadata": {},
   "source": [
    "You can also make an array using a list that is already defined"
   ]
  },
  {
   "cell_type": "code",
   "execution_count": null,
   "id": "f8f0c5b5",
   "metadata": {},
   "outputs": [],
   "source": [
    "int_list = [0,1,2,3,4]\n",
    "int_array = np.array(int_list)\n",
    "int_array"
   ]
  },
  {
   "cell_type": "markdown",
   "id": "212b8af0",
   "metadata": {},
   "source": [
    "We can also use functions to generate arrays.  Here are two examples that generate sequences."
   ]
  },
  {
   "cell_type": "code",
   "execution_count": null,
   "id": "8d2bfaf3",
   "metadata": {},
   "outputs": [],
   "source": [
    "# Arguments are start, stop, number of elements\n",
    "a1 = np.linspace(0,10,11)\n",
    "a1"
   ]
  },
  {
   "cell_type": "code",
   "execution_count": null,
   "id": "fc44e790",
   "metadata": {},
   "outputs": [],
   "source": [
    "# Arguments are start, stop, step size\n",
    "a2 = np.arange(0,11,1)\n",
    "a2"
   ]
  },
  {
   "cell_type": "markdown",
   "id": "9c5ab7d9",
   "metadata": {},
   "source": [
    "*Create an array of numbers from 17 to 19 with a step size of 0.2*"
   ]
  },
  {
   "cell_type": "code",
   "execution_count": null,
   "id": "2188dc17",
   "metadata": {},
   "outputs": [],
   "source": [
    "# Add code here"
   ]
  },
  {
   "cell_type": "markdown",
   "id": "a2562f71",
   "metadata": {},
   "source": [
    "The reason that arrays are so popular is that they allow you to propagate operations through all elements in the array"
   ]
  },
  {
   "cell_type": "code",
   "execution_count": null,
   "id": "7b12f297",
   "metadata": {},
   "outputs": [],
   "source": [
    "a2 * np.pi"
   ]
  },
  {
   "cell_type": "markdown",
   "id": "8845c1f3",
   "metadata": {},
   "source": [
    "We can also do matrix operations using multiple arrays."
   ]
  },
  {
   "cell_type": "code",
   "execution_count": null,
   "id": "299444ce",
   "metadata": {},
   "outputs": [],
   "source": [
    "a1 + a2"
   ]
  },
  {
   "cell_type": "code",
   "execution_count": null,
   "id": "c3865c7b",
   "metadata": {},
   "outputs": [],
   "source": [
    "a1 * a2"
   ]
  },
  {
   "cell_type": "markdown",
   "id": "da2ee860",
   "metadata": {},
   "source": [
    "Imagine doing this with a list.  You would have to step through each element individually and do the addition 10 times.\n",
    "\n",
    "While you could use a `for` loop (as we will learn about later), it is still much more efficient to use array operations."
   ]
  },
  {
   "cell_type": "markdown",
   "id": "70adfda2",
   "metadata": {},
   "source": [
    "Like in normal matrix math, the arrays have to be the correct dimensions for array operations to work"
   ]
  },
  {
   "cell_type": "code",
   "execution_count": null,
   "id": "aea12c89",
   "metadata": {},
   "outputs": [],
   "source": [
    "a3 = np.ones(5)\n",
    "print(a3)\n",
    "\n",
    "a3 + a1"
   ]
  },
  {
   "cell_type": "markdown",
   "id": "52f3aa74",
   "metadata": {},
   "source": [
    "*Create a new array using `linspace()` that you can add to `a3`.*"
   ]
  },
  {
   "cell_type": "code",
   "execution_count": null,
   "id": "29d9be3f",
   "metadata": {},
   "outputs": [],
   "source": [
    "# Add code here"
   ]
  },
  {
   "cell_type": "markdown",
   "id": "26de1391",
   "metadata": {},
   "source": [
    "Arrays can also be indexed or sliced similar to lists"
   ]
  },
  {
   "cell_type": "code",
   "execution_count": null,
   "id": "144f2df7",
   "metadata": {},
   "outputs": [],
   "source": [
    "# select a single element\n",
    "a1[3]"
   ]
  },
  {
   "cell_type": "code",
   "execution_count": null,
   "id": "7fd63c91",
   "metadata": {},
   "outputs": [],
   "source": [
    "# select an interval \n",
    "a1[2:5]\n"
   ]
  },
  {
   "cell_type": "markdown",
   "id": "16e22cb0",
   "metadata": {},
   "source": [
    "Numpy has numerous array methods.  Here is a list of useful ones to be familiar with.\n",
    "\n",
    " - `np.sum(a)` sum of all values on the array\n",
    " - `np.min(a)` find the minimum value in the array\n",
    " - `np.argmin(a)` find position (index) of the minimum value in the array\n",
    " - `np.max(a)` find maximum value in the array\n",
    " - `np.argmax(a)` find position (index) of the maximum value in the array\n",
    " - `np.unique(a)` selects a subset of unique elements\n",
    " - `np.sort(a)` sorts the array from the maximum to the minimum value\n",
    " - `np.mean(a)` and `numpy.std(a)` compute mean and standard deviation of array values\n",
    " - `np.median(a)` computes the median value of an array."
   ]
  },
  {
   "cell_type": "markdown",
   "id": "3cd34473",
   "metadata": {},
   "source": [
    "*Create a new array containing your guess for the peak temperature each of the past 4 days.*"
   ]
  },
  {
   "cell_type": "code",
   "execution_count": null,
   "id": "282a523f",
   "metadata": {},
   "outputs": [],
   "source": [
    "# Add code here"
   ]
  },
  {
   "cell_type": "markdown",
   "id": "a381146f",
   "metadata": {},
   "source": [
    "*Print the average, minimum, and maximum temperature from your array*"
   ]
  },
  {
   "cell_type": "code",
   "execution_count": null,
   "id": "f25e26c1",
   "metadata": {},
   "outputs": [],
   "source": [
    "# Add code here"
   ]
  },
  {
   "cell_type": "markdown",
   "id": "9bd073b4",
   "metadata": {},
   "source": [
    "Arrays can also have multiple dimensions."
   ]
  },
  {
   "cell_type": "code",
   "execution_count": null,
   "id": "53e30e7b",
   "metadata": {},
   "outputs": [],
   "source": [
    "array2d = np.array([a1, a1*a2, a1+a2])\n",
    "array2d"
   ]
  },
  {
   "cell_type": "markdown",
   "id": "7cc01492",
   "metadata": {},
   "source": [
    "There are array methods that tell us the attribute of the array.\n",
    "\n",
    "*What do each of the following do?*"
   ]
  },
  {
   "cell_type": "code",
   "execution_count": null,
   "id": "4839dbd4",
   "metadata": {},
   "outputs": [],
   "source": [
    "print(array2d.ndim)\n",
    "print(array2d.shape)\n",
    "print(array2d.size)"
   ]
  },
  {
   "cell_type": "markdown",
   "id": "d5c13b93",
   "metadata": {},
   "source": [
    "There are two valid syntaxes for indexing in a two-dimensional array.  \n",
    "\n",
    "In both cases, the first index refers to the row, and the second index to the column.\n",
    "\n",
    "The first method is usually preferred for efficiency"
   ]
  },
  {
   "cell_type": "code",
   "execution_count": null,
   "id": "c46c1606",
   "metadata": {},
   "outputs": [],
   "source": [
    "# Brackets + comma\n",
    "array2d[1,5]"
   ]
  },
  {
   "cell_type": "code",
   "execution_count": null,
   "id": "a2b849e3",
   "metadata": {},
   "outputs": [],
   "source": [
    "# Two sets of brackets\n",
    "array2d[1][5]"
   ]
  },
  {
   "cell_type": "markdown",
   "id": "9a0373e2",
   "metadata": {},
   "source": [
    "You can select an entire row or an entire column using a colon `:`"
   ]
  },
  {
   "cell_type": "code",
   "execution_count": null,
   "id": "0143ddce",
   "metadata": {},
   "outputs": [],
   "source": [
    "# all columns of row 1\n",
    "array2d[1,:]"
   ]
  },
  {
   "cell_type": "code",
   "execution_count": null,
   "id": "33d371be",
   "metadata": {},
   "outputs": [],
   "source": [
    "# all rows of column 1\n",
    "array2d[:,1]"
   ]
  },
  {
   "cell_type": "markdown",
   "id": "b2523093",
   "metadata": {},
   "source": [
    "*Retrieve the element in column 4 and row 2 of array2d*"
   ]
  },
  {
   "cell_type": "code",
   "execution_count": null,
   "id": "039998a9",
   "metadata": {},
   "outputs": [],
   "source": [
    "# Add code here"
   ]
  },
  {
   "cell_type": "markdown",
   "id": "95b3f3a0",
   "metadata": {},
   "source": [
    "*Find the position of the maximum value in array2d*"
   ]
  },
  {
   "cell_type": "code",
   "execution_count": null,
   "id": "97032c03",
   "metadata": {},
   "outputs": [],
   "source": [
    "# Add code here"
   ]
  },
  {
   "cell_type": "markdown",
   "id": "a7df95f7",
   "metadata": {},
   "source": [
    "*Find the sum of all elements in array2d*"
   ]
  },
  {
   "cell_type": "code",
   "execution_count": null,
   "id": "cc2cbfd3",
   "metadata": {},
   "outputs": [],
   "source": [
    "# Add code here"
   ]
  },
  {
   "cell_type": "markdown",
   "id": "b4ad35f3",
   "metadata": {},
   "source": [
    "#### **Other data types**\n",
    "\n",
    "We will not go into detail here, but be aware that other data types exist.\n",
    "\n",
    "* Booleans: used for Boolean logic (True/False)\n",
    "* Tuples: like a list but immutable\n",
    "* Sets: like a list but each element can only appear once"
   ]
  },
  {
   "cell_type": "markdown",
   "id": "deca5699",
   "metadata": {},
   "source": []
  }
 ],
 "metadata": {
  "kernelspec": {
   "display_name": "base",
   "language": "python",
   "name": "python3"
  },
  "language_info": {
   "codemirror_mode": {
    "name": "ipython",
    "version": 3
   },
   "file_extension": ".py",
   "mimetype": "text/x-python",
   "name": "python",
   "nbconvert_exporter": "python",
   "pygments_lexer": "ipython3",
   "version": "3.10.15"
  }
 },
 "nbformat": 4,
 "nbformat_minor": 5
}
