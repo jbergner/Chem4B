{
 "cells": [
  {
   "cell_type": "markdown",
   "id": "36f7fa82",
   "metadata": {},
   "source": [
    "### Week 2 practice notebook\n",
    "\n",
    "Reading/manipulating data, functions, curve fitting, conditionals, and loops."
   ]
  },
  {
   "cell_type": "markdown",
   "id": "10425cb1",
   "metadata": {},
   "source": [
    "Start by importing numpy, matplotlib.pyplot, and scipy.optimze.curve_fit"
   ]
  },
  {
   "cell_type": "code",
   "execution_count": null,
   "id": "11fcccb9",
   "metadata": {},
   "outputs": [],
   "source": [
    "# Add import statements"
   ]
  },
  {
   "cell_type": "markdown",
   "id": "f81db094",
   "metadata": {},
   "source": [
    "#### **Part 1**\n",
    "\n",
    "The file `Chlorine_data.txt` lists the chlorine concentration (ppm) measured in a swimming pool on different days in February.\n",
    "\n",
    "Read in the data from this file and store the days and the chlorine concentrations as 1d arrays."
   ]
  },
  {
   "cell_type": "code",
   "execution_count": null,
   "id": "76e2120a",
   "metadata": {},
   "outputs": [],
   "source": []
  },
  {
   "cell_type": "markdown",
   "id": "daa0fadf",
   "metadata": {},
   "source": [
    "Due to a systematic error, all measurements obtained before the 12th of the month are too low by 0.5 ppm.\n",
    "\n",
    "Using conditional statements within a loop, create a new list where the bad values have been corrected."
   ]
  },
  {
   "cell_type": "code",
   "execution_count": null,
   "id": "4a9d4f0f",
   "metadata": {},
   "outputs": [],
   "source": []
  },
  {
   "cell_type": "markdown",
   "id": "47da2431",
   "metadata": {},
   "source": [
    "Make a scatter plot of day versus chlorine concentration, showing both the original data and fixed data.\n",
    "\n",
    "Label your axes and include a legend."
   ]
  },
  {
   "cell_type": "code",
   "execution_count": null,
   "id": "bfeaffe9",
   "metadata": {},
   "outputs": [],
   "source": []
  },
  {
   "cell_type": "markdown",
   "id": "8046eef2",
   "metadata": {},
   "source": [
    "Use a `for` loop to print for each measurement in the fixed data set: \"The concentration of chlorine is ___ ppm.\""
   ]
  },
  {
   "cell_type": "code",
   "execution_count": null,
   "id": "9af5d8e2",
   "metadata": {},
   "outputs": [],
   "source": []
  },
  {
   "cell_type": "markdown",
   "id": "41446672",
   "metadata": {},
   "source": [
    "#### **Part 2**\n",
    "\n",
    "Read in the data from the file `spectrum2.txt`.  Store the input data as two 1d arrays and make a line plot to visualize the data."
   ]
  },
  {
   "cell_type": "code",
   "execution_count": null,
   "id": "f8e5b034",
   "metadata": {},
   "outputs": [],
   "source": []
  },
  {
   "cell_type": "markdown",
   "id": "7b0f2d1e",
   "metadata": {},
   "source": [
    "Create new arrays containing just the region of the spectrum surrounding the peak around 2350 wavenumbers.  Include ~100 wavenumbers on either side of the peak.  Hint: in Data lesson 4 we saw an example of selecting part of a spectrum within some upper & lower bound.\n",
    "\n",
    "Plot the new zoomed-in spectrum."
   ]
  },
  {
   "cell_type": "code",
   "execution_count": null,
   "id": "d70fb362",
   "metadata": {},
   "outputs": [],
   "source": []
  },
  {
   "cell_type": "markdown",
   "id": "ca5bf2e3",
   "metadata": {},
   "source": [
    "Create a new function called `line()` to describe a line, y=mx+b."
   ]
  },
  {
   "cell_type": "code",
   "execution_count": null,
   "id": "eb6e90ff",
   "metadata": {},
   "outputs": [],
   "source": []
  },
  {
   "cell_type": "markdown",
   "id": "1f765dec",
   "metadata": {},
   "source": [
    "From your zoomed-in spectrum, find the indices corresponding to a region containing only the baseline, i.e. a region with no absorbance signal.  Hint: you can use a Boolean statement to find the indices where the wavenumber values are less than a specified threshold."
   ]
  },
  {
   "cell_type": "code",
   "execution_count": null,
   "id": "71e13706",
   "metadata": {},
   "outputs": [],
   "source": []
  },
  {
   "cell_type": "markdown",
   "id": "d616976d",
   "metadata": {},
   "source": [
    "Now fit a line to this baseline-only part of the spectrum, using the indices defined above when passing the x and y data to `curve_fit()`."
   ]
  },
  {
   "cell_type": "code",
   "execution_count": null,
   "id": "90a39c75",
   "metadata": {},
   "outputs": [],
   "source": []
  },
  {
   "cell_type": "markdown",
   "id": "310193b7",
   "metadata": {},
   "source": [
    "The results of this fitting provide us with a model of the baseline around the peak of interest.\n",
    "\n",
    "Make a new array containing the best-fit model of the baseline.  Hint: evaluate the function used to fit the data at each x value in the original data set, and with the best-fit parameters provided by `curve_fit()`."
   ]
  },
  {
   "cell_type": "code",
   "execution_count": null,
   "id": "3c326a9c",
   "metadata": {},
   "outputs": [],
   "source": []
  },
  {
   "cell_type": "markdown",
   "id": "61251ce8",
   "metadata": {},
   "source": [
    "Plot the baseline model on top of your zoomed-in spectrum."
   ]
  },
  {
   "cell_type": "code",
   "execution_count": null,
   "id": "f2ac8ea3",
   "metadata": {},
   "outputs": [],
   "source": []
  },
  {
   "cell_type": "markdown",
   "id": "59a3f62f",
   "metadata": {},
   "source": [
    "Subtract the value of the baseline model from the absorbance value at each wavenumber in the zoomed-in spectrum.\n",
    "\n",
    "Make a plot of the baseline-subtracted spectrum."
   ]
  },
  {
   "cell_type": "code",
   "execution_count": null,
   "id": "fc26802c",
   "metadata": {},
   "outputs": [],
   "source": []
  },
  {
   "cell_type": "markdown",
   "id": "786e330c",
   "metadata": {},
   "source": [
    "Now create a new function called `gaussian()` to describe a Gaussian profile based on a center, amplitude, and width.  Hint: remember we created a function like this in Data lesson 6."
   ]
  },
  {
   "cell_type": "code",
   "execution_count": null,
   "id": "355183b1",
   "metadata": {},
   "outputs": [],
   "source": []
  },
  {
   "cell_type": "markdown",
   "id": "48ad5ef1",
   "metadata": {},
   "source": [
    "Fit a Gaussian profile to the baseline-subtracted absorbance spectrum."
   ]
  },
  {
   "cell_type": "code",
   "execution_count": null,
   "id": "ee7acdec",
   "metadata": {},
   "outputs": [],
   "source": []
  },
  {
   "cell_type": "markdown",
   "id": "37e32204",
   "metadata": {},
   "source": [
    "Create a new array containing the best-fit Gaussian model of the data.\n",
    "\n",
    "Plot the best-fit model on top of the actual data.\n"
   ]
  },
  {
   "cell_type": "code",
   "execution_count": null,
   "id": "9f17b660",
   "metadata": {},
   "outputs": [],
   "source": []
  },
  {
   "cell_type": "markdown",
   "id": "31809f54",
   "metadata": {},
   "source": [
    "How does the fit look? What could be done to improve the fitting?"
   ]
  },
  {
   "cell_type": "markdown",
   "id": "80984d79",
   "metadata": {},
   "source": [
    "Calculate the uncertainties on each fit parameter."
   ]
  },
  {
   "cell_type": "code",
   "execution_count": null,
   "id": "aadc0e59",
   "metadata": {},
   "outputs": [],
   "source": []
  }
 ],
 "metadata": {
  "kernelspec": {
   "display_name": "base",
   "language": "python",
   "name": "python3"
  },
  "language_info": {
   "codemirror_mode": {
    "name": "ipython",
    "version": 3
   },
   "file_extension": ".py",
   "mimetype": "text/x-python",
   "name": "python",
   "nbconvert_exporter": "python",
   "pygments_lexer": "ipython3",
   "version": "3.10.15"
  }
 },
 "nbformat": 4,
 "nbformat_minor": 5
}
