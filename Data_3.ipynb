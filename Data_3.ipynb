{
 "cells": [
  {
   "cell_type": "markdown",
   "id": "217d8d47",
   "metadata": {},
   "source": [
    "## Data lesson 3\n",
    "\n",
    "Today we will learn about plotting with matplotlib"
   ]
  },
  {
   "cell_type": "code",
   "execution_count": null,
   "id": "3220cbc6",
   "metadata": {},
   "outputs": [],
   "source": [
    "# Add import statements\n",
    "import numpy as np"
   ]
  },
  {
   "cell_type": "markdown",
   "id": "e6664e57",
   "metadata": {},
   "source": [
    "#### **Finishing up multi-dimensional arrays**"
   ]
  },
  {
   "cell_type": "code",
   "execution_count": null,
   "id": "18beccd2",
   "metadata": {},
   "outputs": [],
   "source": [
    "# Creating the 1-D arrays we used last time\n",
    "a1 = np.linspace(0,10,11)\n",
    "a2 = np.arange(0,11,1)\n",
    "print(a1)\n",
    "print(a2)"
   ]
  },
  {
   "cell_type": "markdown",
   "id": "9bd073b4",
   "metadata": {},
   "source": [
    "Arrays can also have multiple dimensions.\n",
    "\n",
    "Below we make a new 2D array, defined using our previous 1D arrays.\n",
    "\n",
    "The first row of the 2D array will hold the values contained in `a1`.  The second and third rows will hold the values from multiplying or adding `a1` and `a2`."
   ]
  },
  {
   "cell_type": "code",
   "execution_count": null,
   "id": "53e30e7b",
   "metadata": {},
   "outputs": [],
   "source": [
    "array2d = np.array([a1, a1*a2, a1+a2])\n",
    "array2d"
   ]
  },
  {
   "cell_type": "markdown",
   "id": "7cc01492",
   "metadata": {},
   "source": [
    "There are array methods that provide information about the attributes of the array.\n",
    "\n",
    "*What do each of the following do?*"
   ]
  },
  {
   "cell_type": "code",
   "execution_count": null,
   "id": "4839dbd4",
   "metadata": {},
   "outputs": [],
   "source": [
    "print(array2d.ndim)\n",
    "print(array2d.shape)\n",
    "print(array2d.size)"
   ]
  },
  {
   "cell_type": "markdown",
   "id": "d5c13b93",
   "metadata": {},
   "source": [
    "There are two valid syntaxes for indexing in a two-dimensional array.  \n",
    "\n",
    "In both cases, the first index refers to the row, and the second index to the column.\n",
    "\n",
    "The first method is usually preferred for efficiency."
   ]
  },
  {
   "cell_type": "code",
   "execution_count": null,
   "id": "c46c1606",
   "metadata": {},
   "outputs": [],
   "source": [
    "# Brackets + comma\n",
    "array2d[1,5]"
   ]
  },
  {
   "cell_type": "code",
   "execution_count": null,
   "id": "a2b849e3",
   "metadata": {},
   "outputs": [],
   "source": [
    "# Two sets of brackets\n",
    "array2d[1][5]"
   ]
  },
  {
   "cell_type": "markdown",
   "id": "9a0373e2",
   "metadata": {},
   "source": [
    "You can select an entire row or an entire column using a colon `:`"
   ]
  },
  {
   "cell_type": "code",
   "execution_count": null,
   "id": "0143ddce",
   "metadata": {},
   "outputs": [],
   "source": [
    "# all columns of row 1\n",
    "array2d[1,:]"
   ]
  },
  {
   "cell_type": "code",
   "execution_count": null,
   "id": "33d371be",
   "metadata": {},
   "outputs": [],
   "source": [
    "# all rows of column 1\n",
    "array2d[:,1]"
   ]
  },
  {
   "cell_type": "markdown",
   "id": "b2523093",
   "metadata": {},
   "source": [
    "*Retrieve the element in column 4 and row 2 of array2d*"
   ]
  },
  {
   "cell_type": "code",
   "execution_count": null,
   "id": "039998a9",
   "metadata": {},
   "outputs": [],
   "source": [
    "# Add code here"
   ]
  },
  {
   "cell_type": "markdown",
   "id": "5df649c3",
   "metadata": {},
   "source": [
    "*Add 2 to all elements in column 2 of array2d*"
   ]
  },
  {
   "cell_type": "code",
   "execution_count": null,
   "id": "28e15681",
   "metadata": {},
   "outputs": [],
   "source": [
    "# Add code here"
   ]
  },
  {
   "cell_type": "markdown",
   "id": "95b3f3a0",
   "metadata": {},
   "source": [
    "The array methods we saw last class also work for 2D arrays.\n",
    " - `np.sum(a)` sum of all values on the array\n",
    " - `np.min(a)` find the minimum value in the array\n",
    " - `np.argmin(a)` find position (index) of the minimum value in the array\n",
    " - `np.max(a)` find maximum value in the array\n",
    " - `np.argmax(a)` find position (index) of the maximum value in the array\n",
    " - `np.unique(a)` selects a subset of unique elements\n",
    " - `np.sort(a)` sorts the array from the maximum to the minimum value\n",
    " - `np.mean(a)` and `numpy.std(a)` compute mean and standard deviation of array values\n",
    " - `np.median(a)` computes the median value of an array.\n",
    " \n",
    "*Find the position of the maximum value in array2d*"
   ]
  },
  {
   "cell_type": "code",
   "execution_count": null,
   "id": "97032c03",
   "metadata": {},
   "outputs": [],
   "source": [
    "# Add code here"
   ]
  },
  {
   "cell_type": "markdown",
   "id": "a7df95f7",
   "metadata": {},
   "source": [
    "*Find the sum of all elements in array2d*"
   ]
  },
  {
   "cell_type": "code",
   "execution_count": null,
   "id": "cc2cbfd3",
   "metadata": {},
   "outputs": [],
   "source": [
    "# Add code here"
   ]
  },
  {
   "cell_type": "markdown",
   "id": "b4ad35f3",
   "metadata": {},
   "source": [
    "#### **Other data types**\n",
    "\n",
    "We will not go into detail here, but be aware that other data types exist.\n",
    "\n",
    "* Booleans: used for Boolean logic (True/False)\n",
    "* Tuples: like a list but immutable\n",
    "* Sets: like a list but each element can only appear once"
   ]
  },
  {
   "cell_type": "markdown",
   "id": "deca5699",
   "metadata": {},
   "source": [
    "#### **Plotting basics**\n",
    "\n",
    "Data visualization is an incredibly important part of science!\n",
    "\n",
    "We will be learning how to make plots with the matplotlib library.  \n",
    "\n",
    "You can make virtually any kind of plot with matplotlib, and it is highly customizable.\n",
    "\n",
    "Most of the functionality we need is in the `pyplot` module, which has the common nickname `plt`"
   ]
  },
  {
   "cell_type": "code",
   "execution_count": null,
   "id": "800a44b5",
   "metadata": {},
   "outputs": [],
   "source": [
    "# import pyplot\n",
    "import matplotlib.pyplot as plt"
   ]
  },
  {
   "cell_type": "markdown",
   "id": "29c244e8",
   "metadata": {},
   "source": [
    "First we will make some fake data to plot.\n",
    "\n",
    "We will pretend we've measured the 200-500 nm absorbance spectrum of a sample."
   ]
  },
  {
   "cell_type": "code",
   "execution_count": null,
   "id": "00c5cc88",
   "metadata": {},
   "outputs": [],
   "source": [
    "# Run this cell to make fake data\n",
    "xdata = np.arange(200,500,1)\n",
    "ydata = 0.1*np.exp(-(xdata-300)**2/(2*10**2))\n",
    "ydata += 0.02*np.random.random(len(xdata))"
   ]
  },
  {
   "cell_type": "markdown",
   "id": "878b4f6b",
   "metadata": {},
   "source": [
    "The most straightforward plotting function is just called `plot()`.\n",
    "\n",
    "It accepts the x and y variables of the plot as its first 2 arguments.\n",
    "\n",
    "*Fill in the correct arguments to plot `xdata` versus `ydata`*"
   ]
  },
  {
   "cell_type": "code",
   "execution_count": null,
   "id": "ffea202b",
   "metadata": {},
   "outputs": [],
   "source": [
    "# Add arguments to the function call\n",
    "plt.plot()"
   ]
  },
  {
   "cell_type": "markdown",
   "id": "c639e998",
   "metadata": {},
   "source": [
    "There are many ways we can customize the style of the plot.\n",
    "\n",
    "These are specified with optional arguments in the `plot()` function.\n",
    "\n",
    "While the data is passed using **positional** arguments, these optional arguments are **keyword** arguments since we specify them using keywords if we want to include them."
   ]
  },
  {
   "cell_type": "markdown",
   "id": "3c749aca",
   "metadata": {},
   "source": [
    "The `marker` keyword can take the following values; try a few out out and see what they look like.\n",
    "* 'o'\n",
    "* '*'\n",
    "* 'p'\n",
    "* '^'\n",
    "* 's'\n",
    "\n",
    "*What does `marker` control?*"
   ]
  },
  {
   "cell_type": "code",
   "execution_count": null,
   "id": "18ed53cb",
   "metadata": {},
   "outputs": [],
   "source": [
    "# Add in a marker keyword\n",
    "plt.plot(xdata, ydata, marker= )"
   ]
  },
  {
   "cell_type": "markdown",
   "id": "6b13980b",
   "metadata": {},
   "source": [
    "The `ls` keyword can take the following values; try a few out out and see what they look like.\n",
    "* '-'\n",
    "* '--'\n",
    "* '-.'\n",
    "* ':'\n",
    "\n",
    "*What does `ls` control?*"
   ]
  },
  {
   "cell_type": "code",
   "execution_count": null,
   "id": "ef784d6d",
   "metadata": {},
   "outputs": [],
   "source": [
    "# Add in a ls keyword\n",
    "plt.plot(xdata, ydata, ls= )"
   ]
  },
  {
   "cell_type": "markdown",
   "id": "914f5608",
   "metadata": {},
   "source": [
    "Last example for now: the `c` keyword can take the following values; try a few out out and see what they look like.\n",
    "* 'r'\n",
    "* 'k'\n",
    "* 'b'\n",
    "* 'g'\n",
    "\n",
    "*What does `c` control?*"
   ]
  },
  {
   "cell_type": "code",
   "execution_count": null,
   "id": "38fb88ab",
   "metadata": {},
   "outputs": [],
   "source": [
    "# Add in a c keyword\n",
    "plt.plot(xdata, ydata, c= )"
   ]
  },
  {
   "cell_type": "markdown",
   "id": "3e33caa2",
   "metadata": {},
   "source": [
    "Here is a list of a few common keywords you can use with `plot`:\n",
    "\n",
    "* `linestyle` or `ls`: line style\n",
    "* `marker`: marker style\n",
    "* `color` or `c`: color\n",
    "* `linewidth` or `lw`: line width\n",
    "* `markersize` or `ms`: marker size\n",
    "\n",
    "For each of these, there are additional values avaiable besides what we introduced here.  You can check out the matplotlib documentation to see all of the options."
   ]
  },
  {
   "cell_type": "markdown",
   "id": "ef27d1cd",
   "metadata": {},
   "source": [
    "For data visualization, it is usually important to label the axes of your plots.  \n",
    "\n",
    "This is done using `plt.xlabel()` and `plt.ylabel()`.  These will be their own lines of code.\n",
    "\n",
    "To set an x axis label, simply put the string you want inside the parentheses: `plt.xlabel(\"x axis\")`\n",
    "\n",
    "*Fill in x and y labels on our plot*"
   ]
  },
  {
   "cell_type": "code",
   "execution_count": null,
   "id": "f1d8dd91",
   "metadata": {},
   "outputs": [],
   "source": [
    "plt.plot(xdata, ydata, color='g', marker='o')\n",
    "plt.xlabel()\n",
    "plt.ylabel()"
   ]
  },
  {
   "cell_type": "markdown",
   "id": "e768e2ad",
   "metadata": {},
   "source": [
    "You can also change the dimensions of your figure as follows. \n",
    "\n",
    "`plt.figure(figsize=(width,height))`\n",
    "\n",
    "This must be above the `plt.plot()` line.\n",
    "\n",
    "*Run the cell below, then try using different width and height values*"
   ]
  },
  {
   "cell_type": "code",
   "execution_count": null,
   "id": "82165cae",
   "metadata": {},
   "outputs": [],
   "source": [
    "plt.figure(figsize = (10,4))\n",
    "plt.plot(xdata, ydata, color='g', marker='o')\n",
    "plt.xlabel(\"Wavelength (nm)\")\n",
    "plt.ylabel(\"Absorbance\")"
   ]
  },
  {
   "cell_type": "markdown",
   "id": "e1beb857",
   "metadata": {},
   "source": [
    "You can also set different limits to the x and y axis to highlight regions of interest. \n",
    "\n",
    "This is done with `plt.xlim(xstart,xstop)` and `plt.ylim(ystart,ystop)`.\n",
    "\n",
    "*Set the x limits on your plot to zoom in on the absorption feature at 300 nm.*"
   ]
  },
  {
   "cell_type": "code",
   "execution_count": null,
   "id": "65ffa508",
   "metadata": {},
   "outputs": [],
   "source": [
    "# Add x and y limits\n",
    "plt.figure(figsize = (10,4))\n",
    "plt.plot(xdata, ydata, color='g', marker='o')\n",
    "plt.xlabel(\"Wavelength (nm)\")\n",
    "plt.ylabel(\"Absorbance\")\n",
    "\n",
    "plt.xlim()"
   ]
  },
  {
   "cell_type": "markdown",
   "id": "081fb412",
   "metadata": {},
   "source": [
    "You can save a copy of your figure using `plt.savefig()`\n",
    "\n",
    "*Try adding the following line to your cell above:*\n",
    "`plt.savefig('fake_spectrum.png')`\n",
    "\n",
    "Be sure to check where it saved to within your DataHub environment"
   ]
  },
  {
   "cell_type": "markdown",
   "id": "1701ee40",
   "metadata": {},
   "source": [
    "#### **Other types of plots**\n",
    "\n",
    "Besides the line plots we've seen already, there are many other kinds of plots that you can make in python.\n",
    "\n",
    "This cheat sheet includes a helpful summary: https://matplotlib.org/cheatsheets/_images/cheatsheets-1.png\n",
    "\n",
    "We will go through a few examples that are most likely to be useful to you."
   ]
  },
  {
   "cell_type": "markdown",
   "id": "943d343d",
   "metadata": {},
   "source": [
    "We can generate **scatter plots** using `plt.scatter()`.\n",
    "\n",
    "In some cases this is not too different from a line plot."
   ]
  },
  {
   "cell_type": "code",
   "execution_count": null,
   "id": "f4be02f8",
   "metadata": {},
   "outputs": [],
   "source": [
    "plt.scatter(xdata,ydata)"
   ]
  },
  {
   "cell_type": "markdown",
   "id": "58172d62",
   "metadata": {},
   "source": [
    "In some cases, scatter plots are more useful for showing correlations between different attributes.\n",
    "\n",
    "Let's say we have measured the concentrations of three different chemicals in river samples.  We'll use scatter plots to look for correlations among them."
   ]
  },
  {
   "cell_type": "code",
   "execution_count": null,
   "id": "eabaf86e",
   "metadata": {},
   "outputs": [],
   "source": [
    "# Run this cell to generate some fake data\n",
    "conc1 = np.random.randint(20,30,10)\n",
    "conc2 = conc1*0.7 + 4*np.random.random(10)\n",
    "conc3 = np.max(conc2) - 0.8*conc2 - 3*np.random.random(10)\n",
    "conc3[-1] = 15"
   ]
  },
  {
   "cell_type": "markdown",
   "id": "71cbc0f8",
   "metadata": {},
   "source": [
    "*Make some scatter plots to look for correlations between the concentrations of the 3 chemicals.*"
   ]
  },
  {
   "cell_type": "code",
   "execution_count": null,
   "id": "02591506",
   "metadata": {},
   "outputs": [],
   "source": [
    "# Add code here"
   ]
  },
  {
   "cell_type": "markdown",
   "id": "0409f871",
   "metadata": {},
   "source": [
    "A cool feature of scatter plots is you can use color as a third \"axis\".  Let's see this for our three-chemical scatter plot.\n",
    "\n",
    "In the cell below, we will use the keyword argument `c` to set a value for each point that is used to assign it a color.\n",
    "\n",
    "We are also adding a **colorbar** to help interpret what the colors mean."
   ]
  },
  {
   "cell_type": "code",
   "execution_count": null,
   "id": "e7de4770",
   "metadata": {},
   "outputs": [],
   "source": [
    "plt.scatter(conc1, conc2, c=conc3)\n",
    "plt.xlabel(\"Chemical 1 (mmol)\")\n",
    "plt.ylabel(\"Chemical 2 (mmol)\")\n",
    "\n",
    "# Adding the colorbar and its label\n",
    "cbar = plt.colorbar()\n",
    "cbar.set_label(\"Chemical 3 (mmol)\")"
   ]
  },
  {
   "cell_type": "markdown",
   "id": "066fd71b",
   "metadata": {},
   "source": [
    "**Fine tuning:**\n",
    "\n",
    "There are many other choices of **colormaps** available.  The cheat sheet linked above includes some other colormap options.  This is done using the keyword argument `cmap`.\n",
    "\n",
    "We also have an extreme value in `chem3` that is making it difficult to see color differences for the other points.  To fix this, we can set minimum and maximum values to avoid \"stretching\" the colormap too far.  This is done using the keyword arguments `vmin` and `vmax`.\n",
    "\n",
    "*Use the cheat sheet to pick a different colormap.  Pass this as an argument to `plt.scatter()` using `cmap= `.  Is it easier to interpret certain colormaps than others?*\n",
    "\n",
    "*Now set a maximum value to the colormap.*"
   ]
  },
  {
   "cell_type": "code",
   "execution_count": null,
   "id": "01c28f1e",
   "metadata": {},
   "outputs": [],
   "source": [
    "plt.scatter(conc1, conc2, c=conc3)\n",
    "plt.xlabel(\"Chemical 1 (mmol)\")\n",
    "plt.ylabel(\"Chemical 2 (mmol)\")\n",
    "\n",
    "# Adding the colorbar and its label\n",
    "cbar = plt.colorbar()\n",
    "cbar.set_label(\"Chemical 3 (mmol)\")"
   ]
  },
  {
   "cell_type": "markdown",
   "id": "b6b4653d",
   "metadata": {},
   "source": [
    "**Histograms** are another useful type of plot for visualizing distributions of data.\n",
    "\n",
    "We generate a histogram using `plt.hist(data)`, where data is the dataset.\n",
    "\n",
    "Below we'll make some data for student guesses of the number of gummy bears on a plate."
   ]
  },
  {
   "cell_type": "code",
   "execution_count": null,
   "id": "ba34707c",
   "metadata": {},
   "outputs": [],
   "source": [
    "# Run this cell to make fake data\n",
    "gummy_guesses = np.random.normal(48, 12, 150)"
   ]
  },
  {
   "cell_type": "markdown",
   "id": "80885c74",
   "metadata": {},
   "source": [
    "*Make a histogram of the distribution of guesses in the sample.  Be sure to label your axes!*"
   ]
  },
  {
   "cell_type": "code",
   "execution_count": null,
   "id": "5c570eee",
   "metadata": {},
   "outputs": [],
   "source": [
    "# Add code here"
   ]
  },
  {
   "cell_type": "markdown",
   "id": "6b8d7e47",
   "metadata": {},
   "source": [
    "Each bar in a histogram represents the number of values that fall within a specific range.  The y values of a histogram will depend on the bin size!\n",
    "\n",
    "Sometimes it can be helpful to change the size of the bins to better visualize the data.  We can do this with the keyword argument `bins`.\n",
    "\n",
    "`bins` accepts either \n",
    "* a single integer representing the number of evenly-spaced bins\n",
    "* a list explicitly defining the bin edges\n",
    "\n",
    "*Try increasing and decreasing the number of bins in your histogram*"
   ]
  },
  {
   "cell_type": "code",
   "execution_count": null,
   "id": "59181c2e",
   "metadata": {},
   "outputs": [],
   "source": [
    "# Add code here"
   ]
  },
  {
   "cell_type": "markdown",
   "id": "13b4343a",
   "metadata": {},
   "source": [
    "*Now we will define an explicit set of bin edges*"
   ]
  },
  {
   "cell_type": "code",
   "execution_count": null,
   "id": "c5a9dac7",
   "metadata": {},
   "outputs": [],
   "source": [
    "bin_edges = np.linspace(20,80,12)\n",
    "\n",
    "# Add code to make your histogram with the bin edges defined"
   ]
  },
  {
   "cell_type": "markdown",
   "id": "993c0bc0",
   "metadata": {},
   "source": [
    "You can also change the color just as you would a line plot.\n",
    "\n",
    "*Try changing the color of your histogram plot*"
   ]
  },
  {
   "cell_type": "markdown",
   "id": "e355a668",
   "metadata": {},
   "source": [
    "#### **Overplotting data**\n",
    "\n",
    "Let's suppose we have two measurements we want to show in the same figure. \n",
    "\n",
    "All we need to do is call multiple plotting functions in the same cell."
   ]
  },
  {
   "cell_type": "code",
   "execution_count": null,
   "id": "256a32e6",
   "metadata": {},
   "outputs": [],
   "source": [
    "# Run this cell to make an additional fake spectrum\n",
    "ydata2 = 0.06*np.exp(-(xdata-310)**2/(2*10**2))\n",
    "ydata2 += 0.02*np.random.random(len(xdata))"
   ]
  },
  {
   "cell_type": "markdown",
   "id": "56050d29",
   "metadata": {},
   "source": [
    "*Make a figure including the line plot for our original spectrum, `ydata`, as well as our new spectrum, `ydata2`.  Note that you can use the same `xdata` for both cases.*"
   ]
  },
  {
   "cell_type": "code",
   "execution_count": null,
   "id": "e04ae0b6",
   "metadata": {},
   "outputs": [],
   "source": [
    "# Add code here"
   ]
  },
  {
   "cell_type": "markdown",
   "id": "18b1185e",
   "metadata": {},
   "source": [
    "Now that we have multiple lines on the figure, it is helpful to have a **legend**.\n",
    "\n",
    "To make a legend, we need to associate a label with each line.  We first add the keyword argument `label=\"\"` to each `plt.plot()` call.  We then add a new line `plt.legend()` at the bottom of the cell.\n",
    "\n",
    "*Add labels for spectrum 1 and spectrum 2 to the plot*"
   ]
  },
  {
   "cell_type": "code",
   "execution_count": 101,
   "id": "b27b5adb",
   "metadata": {},
   "outputs": [],
   "source": [
    "# Add code here"
   ]
  }
 ],
 "metadata": {
  "kernelspec": {
   "display_name": "base",
   "language": "python",
   "name": "python3"
  },
  "language_info": {
   "codemirror_mode": {
    "name": "ipython",
    "version": 3
   },
   "file_extension": ".py",
   "mimetype": "text/x-python",
   "name": "python",
   "nbconvert_exporter": "python",
   "pygments_lexer": "ipython3",
   "version": "3.10.15"
  }
 },
 "nbformat": 4,
 "nbformat_minor": 5
}
