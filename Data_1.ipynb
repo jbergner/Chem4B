{
 "cells": [
  {
   "cell_type": "markdown",
   "id": "217d8d47",
   "metadata": {},
   "source": [
    "## Welcome to Chem 4B!\n",
    "\n",
    "This notebook contains our first data lesson, where we will introduce DataHub, Jupyter notebooks, and some basic information about programming in python."
   ]
  },
  {
   "cell_type": "markdown",
   "id": "b91d4f5e",
   "metadata": {},
   "source": [
    "#### **Motivation for introducing python in 4B**\n",
    "\n",
    "You might be wondering why you are learning python in a Chemistry class!  The answer is that right now, programming is an essential skill across virtually all areas of science.  \n",
    "\n",
    "Remember the 2024 Nobel prize in Chemistry?\n",
    "\n",
    "Our hope is that by learning some python, you will: \n",
    "\n",
    "* Develop a fluency with programming that will help prepare you for a future career in reseach, industry, or beyond\n",
    "\n",
    "* Build your problem-solving and logic skills\n",
    "\n",
    "* Cultivate a toolset that can be useful (and even time-saving) for future coursework and research\n",
    "\n",
    "A final word about python: it is open-source and tremendously well-documented.  Online platforms like Stack Overflow contain answered questions for many commonly encountered issues.  While you should of course never blindly trust anything on the internet, it can be a great resource!"
   ]
  },
  {
   "cell_type": "markdown",
   "id": "235ac57a",
   "metadata": {},
   "source": [
    "#### **Introduction to DataHub**\n",
    "\n",
    "By opening this link in your browser, you have entered a programming environment.  We are using Berkeley's DataHub to host our in-class computing needs.\n",
    "\n",
    "The main page you see is your programming 'notebook'.  In the panel on the left, you can do other actions like creating new files, navigating to different folders, upload files, etc.\n",
    "\n",
    "Google Colab is another popular cloud-based server.  You can also run code locally on your own computer, but this requires installing code packages.  If you are interested in running python on your own computer, Anaconda is a very popular distribution.\n"
   ]
  },
  {
   "cell_type": "markdown",
   "id": "935cbb07",
   "metadata": {},
   "source": [
    "#### **Jupyter Notebooks**\n",
    "\n",
    "Jupyter notebooks provide an interactive computational environment and are an intuitive way to get started with programming.  Project Jupyter was actually co-founded here at Berekely in 2014!\n",
    "\n",
    "Notebooks are composed of **cells**.  Below is the first code cell in this notebook.\n",
    "\n",
    "You can \"run\" a cell of code by clicking it and pressing Shift + Enter, or by clicking the triangle icon  at the top of the notebook.\n",
    "\n",
    "*Try running the code cell below*"
   ]
  },
  {
   "cell_type": "code",
   "execution_count": null,
   "id": "d9d236b1",
   "metadata": {},
   "outputs": [],
   "source": [
    "print(\"I love chemistry!\")"
   ]
  },
  {
   "cell_type": "markdown",
   "id": "b5752e49",
   "metadata": {},
   "source": [
    "This should produce an \"output\", in this case we have printed some text.\n",
    "\n",
    "Depending on what code is in the cell, the output could be a number, a graphic, or nothing.\n",
    "\n",
    "You can add delete cells using the + and scissors icons at the top of the notebook\n",
    "\n",
    "*Try adding and deleting cells a couple of times*"
   ]
  },
  {
   "cell_type": "markdown",
   "id": "bae8c167",
   "metadata": {},
   "source": [
    "#### **Math in python**\n",
    "\n",
    "Now onto some actual coding!\n",
    "\n",
    "One of the simplest things you can do with python is use it like a really fancy calculator\n",
    "\n",
    "*Try running the following code cells to see some basic math operations*\n",
    "\n",
    "Note that these cells contain lines starting with a hash (#).  These are called **comments**: they are not executed but can be used for organization and to remind the coder what is happening"
   ]
  },
  {
   "cell_type": "code",
   "execution_count": null,
   "id": "8d5941bc",
   "metadata": {},
   "outputs": [],
   "source": [
    "# Addition\n",
    "1 + 1"
   ]
  },
  {
   "cell_type": "code",
   "execution_count": null,
   "id": "4c74c47e",
   "metadata": {},
   "outputs": [],
   "source": [
    "# Subtraction\n",
    "10 - 2"
   ]
  },
  {
   "cell_type": "code",
   "execution_count": null,
   "id": "9a0bb3d0",
   "metadata": {},
   "outputs": [],
   "source": [
    "# Negative numbers\n",
    "10 + -2"
   ]
  },
  {
   "cell_type": "code",
   "execution_count": null,
   "id": "4e163745",
   "metadata": {},
   "outputs": [],
   "source": [
    "# Multiplication\n",
    "6 * 4"
   ]
  },
  {
   "cell_type": "code",
   "execution_count": null,
   "id": "a3fbd579",
   "metadata": {},
   "outputs": [],
   "source": [
    "# Exponentiation\n",
    "2**4"
   ]
  },
  {
   "cell_type": "code",
   "execution_count": null,
   "id": "881aa094",
   "metadata": {},
   "outputs": [],
   "source": [
    "# Division\n",
    "3 / 5"
   ]
  },
  {
   "cell_type": "markdown",
   "id": "3ca6bb0f",
   "metadata": {},
   "source": [
    "Python can store numbers either as **integers** (whole numbers) or **floats** (aka decimals).  Integers are useful when counting and floats are commonly used for mathematical operations"
   ]
  },
  {
   "cell_type": "code",
   "execution_count": null,
   "id": "efaabeb7",
   "metadata": {},
   "outputs": [],
   "source": [
    "# Some integers\n",
    "7"
   ]
  },
  {
   "cell_type": "code",
   "execution_count": null,
   "id": "0d29b83e",
   "metadata": {},
   "outputs": [],
   "source": [
    "1 + 4"
   ]
  },
  {
   "cell_type": "code",
   "execution_count": null,
   "id": "2671255b",
   "metadata": {},
   "outputs": [],
   "source": [
    "-183902093802010"
   ]
  },
  {
   "cell_type": "code",
   "execution_count": null,
   "id": "26b7ccbe",
   "metadata": {},
   "outputs": [],
   "source": [
    "# Some floats\n",
    "7.0"
   ]
  },
  {
   "cell_type": "code",
   "execution_count": null,
   "id": "055595fd",
   "metadata": {},
   "outputs": [],
   "source": [
    "1.1 + 4.5"
   ]
  },
  {
   "cell_type": "code",
   "execution_count": null,
   "id": "89eed151",
   "metadata": {},
   "outputs": [],
   "source": [
    "# When there is one float and one integer, the result is a float\n",
    "4.5 + 1"
   ]
  },
  {
   "cell_type": "markdown",
   "id": "e45cc8ff",
   "metadata": {},
   "source": [
    "Python follows the same order of operations that you know from algebra\n",
    "\n",
    "*Will the answer below be 1 or 1.5?*"
   ]
  },
  {
   "cell_type": "code",
   "execution_count": null,
   "id": "813ab554",
   "metadata": {},
   "outputs": [],
   "source": [
    "1 + 1 / 2"
   ]
  },
  {
   "cell_type": "markdown",
   "id": "1c3de060",
   "metadata": {},
   "source": [
    "*How about now?*"
   ]
  },
  {
   "cell_type": "code",
   "execution_count": null,
   "id": "4117d912",
   "metadata": {},
   "outputs": [],
   "source": [
    "(1 + 1) / 2"
   ]
  },
  {
   "cell_type": "markdown",
   "id": "101e8df8",
   "metadata": {},
   "source": [
    "#### **Syntax** \n",
    "Programming languages like python follow strict rules about what can and cannot happen. Human coders can make errors, but the computer's logic is never wrong! \n",
    "\n",
    "If you see an error, it is no big deal; it is just the code's way of telling you that it can't understand what you are asking for.\n",
    "\n",
    "*Try running the cell below and see if you can figure out the error*"
   ]
  },
  {
   "cell_type": "code",
   "execution_count": null,
   "id": "6cbf9d6a",
   "metadata": {},
   "outputs": [],
   "source": [
    "print('Something is not right here.)"
   ]
  },
  {
   "cell_type": "markdown",
   "id": "ce8c8be9",
   "metadata": {},
   "source": [
    "A syntax error tells us that the code has broken one of the rules of the programming language.\n",
    "\n",
    "*Try another example below.  Can you fix the error?*"
   ]
  },
  {
   "cell_type": "code",
   "execution_count": null,
   "id": "742748a6",
   "metadata": {},
   "outputs": [],
   "source": [
    "4 * * 2"
   ]
  },
  {
   "cell_type": "markdown",
   "id": "4be847b6",
   "metadata": {},
   "source": [
    "#### **Strings**\n",
    "\n",
    "Strings are a data type (like integers or floats) that encode text.\n",
    "\n",
    "We indicate a string with either single quotes 'text' or double quotes \"text\""
   ]
  },
  {
   "cell_type": "code",
   "execution_count": null,
   "id": "75f456a4",
   "metadata": {},
   "outputs": [],
   "source": [
    "'String 1'"
   ]
  },
  {
   "cell_type": "code",
   "execution_count": null,
   "id": "e929080a",
   "metadata": {},
   "outputs": [],
   "source": [
    "\"String 2\""
   ]
  },
  {
   "cell_type": "markdown",
   "id": "471df008",
   "metadata": {},
   "source": [
    "You can perform operations on strings, similar to what we did with numbers"
   ]
  },
  {
   "cell_type": "code",
   "execution_count": null,
   "id": "538a816b",
   "metadata": {},
   "outputs": [],
   "source": [
    "\"Chem\" + \" \" + \"4B\""
   ]
  },
  {
   "cell_type": "code",
   "execution_count": null,
   "id": "693d5c22",
   "metadata": {},
   "outputs": [],
   "source": [
    "\"chemistry!\"*10"
   ]
  },
  {
   "cell_type": "markdown",
   "id": "6839e1e9",
   "metadata": {},
   "source": [
    "*Try creating your own string addition or string multiplication below*"
   ]
  },
  {
   "cell_type": "code",
   "execution_count": null,
   "id": "c20e4437",
   "metadata": {},
   "outputs": [],
   "source": [
    "# Add your code here\n"
   ]
  },
  {
   "cell_type": "markdown",
   "id": "13f21b6d",
   "metadata": {},
   "source": [
    "Note that numbers (integers and floats) can't be used together in operations\n",
    "\n",
    "*Should the following be equal to 3 or 12?*"
   ]
  },
  {
   "cell_type": "code",
   "execution_count": null,
   "id": "7194d23b",
   "metadata": {},
   "outputs": [],
   "source": [
    "1 + '2'"
   ]
  },
  {
   "cell_type": "markdown",
   "id": "e7b041a3",
   "metadata": {},
   "source": [
    "You can *re-cast* types to remove ambiguity, using the shorthand names for the different data types\n",
    "\n",
    "* Integer = `int`\n",
    "* Float = `float`\n",
    "* String = `str`"
   ]
  },
  {
   "cell_type": "code",
   "execution_count": null,
   "id": "8cad2efd",
   "metadata": {},
   "outputs": [],
   "source": [
    "# Here we cast the integer 1 into a string '1'\n",
    "str(1) + '2'"
   ]
  },
  {
   "cell_type": "code",
   "execution_count": null,
   "id": "2c76d18b",
   "metadata": {},
   "outputs": [],
   "source": [
    "# Here we cast the string '2' into the integer 2\n",
    "1 + int('2')"
   ]
  },
  {
   "cell_type": "markdown",
   "id": "98fc84ac",
   "metadata": {},
   "source": [
    "*Use python to calculate the number of seconds in two lectures of Chem 4B.  Each lecture is 50 minutes long, and there are 60 seconds in a minute.*"
   ]
  },
  {
   "cell_type": "code",
   "execution_count": null,
   "id": "5bcf6165",
   "metadata": {},
   "outputs": [],
   "source": [
    "# Add your code here\n"
   ]
  },
  {
   "cell_type": "markdown",
   "id": "b514d942",
   "metadata": {},
   "source": [
    "*Fix the code below to create a string containing a number and its unit*"
   ]
  },
  {
   "cell_type": "code",
   "execution_count": null,
   "id": "9c7c86b8",
   "metadata": {},
   "outputs": [],
   "source": [
    "4 + 'grams'"
   ]
  },
  {
   "cell_type": "markdown",
   "id": "ba9a5f90",
   "metadata": {},
   "source": [
    "#### **Variables**\n",
    "\n",
    "One of the powerful features of coding is the ability to define **variables** to store values.  Variables can store numbers, strings, and more complex forms of data.\n",
    "\n",
    "Variable names can only consist of letters, numbers, and underscores, and cannot *begin* with a number\n",
    "\n",
    "*Assignment statements* are used to associate a variable name with its value\n",
    "\n",
    "A note on variable names: try to be descriptive and make your code as readable as possible!  For instance, if you name a variable `a` and are later trying to search for where it's defined, you may have a difficult time.  Instead, consider something less common like `aa` or something more descriptive like `atomic_mass`\n",
    "\n",
    "*Run the following code blocks to see variables being assigned*"
   ]
  },
  {
   "cell_type": "code",
   "execution_count": null,
   "id": "646082ce",
   "metadata": {},
   "outputs": [],
   "source": [
    "aa = 200\n",
    "aa"
   ]
  },
  {
   "cell_type": "code",
   "execution_count": null,
   "id": "fea3f4ad",
   "metadata": {},
   "outputs": [],
   "source": [
    "bb = 95\n",
    "bb"
   ]
  },
  {
   "cell_type": "markdown",
   "id": "1dd4b9a9",
   "metadata": {},
   "source": [
    "Now you can see that aa and bb can undergo operations based on the values that were assigned to them"
   ]
  },
  {
   "cell_type": "code",
   "execution_count": null,
   "id": "46778bfe",
   "metadata": {},
   "outputs": [],
   "source": [
    "cc = aa + bb\n",
    "cc"
   ]
  },
  {
   "cell_type": "markdown",
   "id": "5d1326be",
   "metadata": {},
   "source": [
    "Variables can be used to define other variables"
   ]
  },
  {
   "cell_type": "code",
   "execution_count": null,
   "id": "3ee77c40",
   "metadata": {},
   "outputs": [],
   "source": [
    "dd = aa / 2\n",
    "dd"
   ]
  },
  {
   "cell_type": "markdown",
   "id": "e7f54434",
   "metadata": {},
   "source": [
    "Variables only change value when something is assigned to them.  \n",
    "\n",
    "If the value of a variable is changed, variables that were defined based on that variable will not automatically change"
   ]
  },
  {
   "cell_type": "code",
   "execution_count": null,
   "id": "d964c711",
   "metadata": {},
   "outputs": [],
   "source": [
    "one = 1\n",
    "two = one + one \n",
    "print(two)\n",
    "\n",
    "one = 7\n",
    "print(two)"
   ]
  },
  {
   "cell_type": "markdown",
   "id": "af0d2704",
   "metadata": {},
   "source": [
    "`two` does not remember where it came from!\n",
    "\n",
    "This is important because it can lead to different behavior compared to what you might be accustomed to in a spreadsheet.\n",
    "\n",
    "Variables must have a new value explicitly re-assigned"
   ]
  },
  {
   "cell_type": "code",
   "execution_count": null,
   "id": "04661510",
   "metadata": {},
   "outputs": [],
   "source": [
    "one = 7\n",
    "two = one + one\n",
    "print(two)"
   ]
  },
  {
   "cell_type": "markdown",
   "id": "48396276",
   "metadata": {},
   "source": [
    "Some variable names are reserved for special python uses.  If you encounter this, just pick a new variable name."
   ]
  },
  {
   "cell_type": "code",
   "execution_count": null,
   "id": "3fa1577e",
   "metadata": {},
   "outputs": [],
   "source": [
    "# class is reserved by python for other purposes, so the program doesn't understand what you are asking it to do\n",
    "class = 'Chem4B'"
   ]
  },
  {
   "cell_type": "code",
   "execution_count": null,
   "id": "9bc19068",
   "metadata": {},
   "outputs": [],
   "source": [
    "# Another example\n",
    "for = 4"
   ]
  },
  {
   "cell_type": "markdown",
   "id": "024b5baa",
   "metadata": {},
   "source": [
    "#### **Built-in functions**\n",
    "\n",
    "By default, python provides some **built-in functions** like `print()` and `len()`.\n",
    "\n",
    "In general, functions take **arguments** as inputs (in parentheses) and return **outputs**.\n",
    "\n",
    "A **call expression** describes the overall process of invoking a named function followed by arguments in parentheses.\n",
    "\n",
    "We have already called the `print()` function to put something in a cell output.\n",
    "\n",
    "In Jupyter notebooks, the last line in a cell is automatically printed.  If you want to see the output of another line in the cell, you need to use `print()`"
   ]
  },
  {
   "cell_type": "code",
   "execution_count": null,
   "id": "be7cd75e",
   "metadata": {},
   "outputs": [],
   "source": [
    "aa\n",
    "bb"
   ]
  },
  {
   "cell_type": "code",
   "execution_count": null,
   "id": "e41cff99",
   "metadata": {},
   "outputs": [],
   "source": [
    "print(aa)\n",
    "print(bb)"
   ]
  },
  {
   "cell_type": "markdown",
   "id": "8970425d",
   "metadata": {},
   "source": [
    "`len()` outputs the length of whatever is provided as the argument.  It accepts only one argument."
   ]
  },
  {
   "cell_type": "code",
   "execution_count": null,
   "id": "5e2388b5",
   "metadata": {},
   "outputs": [],
   "source": [
    "len(\"alphabet\")"
   ]
  },
  {
   "cell_type": "markdown",
   "id": "85e262ef",
   "metadata": {},
   "source": [
    "Other common built-in functions are `min()` and `max()`, which find the minimum or maximum of a series of values.\n",
    "\n",
    "The cell below calls `max()` to find the maximum of the three numbers inputted as arguments."
   ]
  },
  {
   "cell_type": "code",
   "execution_count": null,
   "id": "12cba301",
   "metadata": {},
   "outputs": [],
   "source": [
    "max(1,2,3)"
   ]
  },
  {
   "cell_type": "markdown",
   "id": "a3d44ba9",
   "metadata": {},
   "source": [
    "And now we find the minimum of 5 strings."
   ]
  },
  {
   "cell_type": "code",
   "execution_count": null,
   "id": "07d1c127",
   "metadata": {},
   "outputs": [],
   "source": [
    "min('a', 'b', 'c', 'd', 'z')"
   ]
  },
  {
   "cell_type": "markdown",
   "id": "cfd16df6",
   "metadata": {},
   "source": [
    "*What do these other built-in functions do?*"
   ]
  },
  {
   "cell_type": "code",
   "execution_count": null,
   "id": "824f890f",
   "metadata": {},
   "outputs": [],
   "source": [
    "round(3.14159)"
   ]
  },
  {
   "cell_type": "code",
   "execution_count": null,
   "id": "023ff866",
   "metadata": {},
   "outputs": [],
   "source": [
    "abs(-120313)"
   ]
  },
  {
   "cell_type": "markdown",
   "id": "53462119",
   "metadata": {},
   "source": [
    "*In the cell below, try out a few of the built-in functions for yourself.  Test the results when you provide different arguments.*"
   ]
  },
  {
   "cell_type": "code",
   "execution_count": null,
   "id": "840c4793",
   "metadata": {},
   "outputs": [],
   "source": [
    "# Add your code here\n"
   ]
  },
  {
   "cell_type": "markdown",
   "id": "65a42cd6",
   "metadata": {},
   "source": [
    "#### **Modules** \n",
    "\n",
    "Besides the python built-in functions, there are many other functions you can access which are stored in collections called **modules**.  \n",
    "\n",
    "You can access these additional functions in your notebook by **importing** the modules that you need.\n",
    "\n",
    "*Run the cell below to import the `numpy` module, which contains lots of numerical functions.*\n"
   ]
  },
  {
   "cell_type": "code",
   "execution_count": null,
   "id": "0c5af459",
   "metadata": {},
   "outputs": [],
   "source": [
    "import numpy"
   ]
  },
  {
   "cell_type": "markdown",
   "id": "8953fbdf",
   "metadata": {},
   "source": [
    "Below, we use numpy's `log()` function to take the natural log of a number.\n",
    "\n",
    "*Try changing the number in the `log()` call*"
   ]
  },
  {
   "cell_type": "code",
   "execution_count": null,
   "id": "af0c6cb1",
   "metadata": {},
   "outputs": [],
   "source": [
    "numpy.log(10)"
   ]
  },
  {
   "cell_type": "markdown",
   "id": "22140051",
   "metadata": {},
   "source": [
    "Module names are often given nicknames in the import statement.  \n",
    "\n",
    "This allows you to call the module's functions a bit more efficiently.\n",
    "\n",
    "The standard name for numpy is `np`, though you could nickname any module however you like."
   ]
  },
  {
   "cell_type": "code",
   "execution_count": null,
   "id": "74bd5960",
   "metadata": {},
   "outputs": [],
   "source": [
    "import numpy as np \n",
    "np.log(10)"
   ]
  },
  {
   "cell_type": "markdown",
   "id": "a35360c7",
   "metadata": {},
   "source": [
    "It is typical to include all of your import statements at the top of your notebook.  You should only include the modules that you actually need in each notebook.  An example might look something like:"
   ]
  },
  {
   "cell_type": "code",
   "execution_count": null,
   "id": "3220cbc6",
   "metadata": {},
   "outputs": [],
   "source": [
    "# Here, the first two have nicknames, the third and fourth do not\n",
    "import numpy as np \n",
    "import matplotlib.pyplot as plt\n",
    "import math\n",
    "import scipy"
   ]
  },
  {
   "cell_type": "markdown",
   "id": "2bc4690c",
   "metadata": {},
   "source": [
    "We can call functions from each module by using the module (nick-)name, a period, and the function name.  \n",
    "\n",
    "We saw this above for `np.log()`: `log()` is a function that is stored in the `np` module.\n",
    "\n",
    "*Try the other examples below.  What does each function do?*"
   ]
  },
  {
   "cell_type": "code",
   "execution_count": null,
   "id": "e76da465",
   "metadata": {},
   "outputs": [],
   "source": [
    "math.sqrt(64)"
   ]
  },
  {
   "cell_type": "code",
   "execution_count": null,
   "id": "3e9f2110",
   "metadata": {},
   "outputs": [],
   "source": [
    "math.factorial(5)"
   ]
  },
  {
   "cell_type": "code",
   "execution_count": null,
   "id": "40edb50b",
   "metadata": {},
   "outputs": [],
   "source": [
    "np.mean([3,6,4,9])"
   ]
  },
  {
   "cell_type": "code",
   "execution_count": null,
   "id": "446c00c9",
   "metadata": {},
   "outputs": [],
   "source": [
    "np.deg2rad(180)"
   ]
  },
  {
   "cell_type": "markdown",
   "id": "f1de9c74",
   "metadata": {},
   "source": [
    "When you're getting started, it might feel overwhelming to know where to look for a particular function, or what functions a given module contains.\n",
    "\n",
    "Luckily there is a lot of documentation available!\n",
    "\n",
    "You can use the built-in `help()` function to get more information about module or a specific function."
   ]
  },
  {
   "cell_type": "code",
   "execution_count": null,
   "id": "aa9e4bd4",
   "metadata": {},
   "outputs": [],
   "source": [
    "help(math)"
   ]
  },
  {
   "cell_type": "markdown",
   "id": "cb0a0262",
   "metadata": {},
   "source": [
    "You should see a lot of information about the `math` module, and also a link you to the online documentation.\n",
    "\n",
    "*Look through the information provided and try out another function from the `math` module*"
   ]
  },
  {
   "cell_type": "code",
   "execution_count": null,
   "id": "f8a29cea",
   "metadata": {},
   "outputs": [],
   "source": [
    "# Add your new math function here\n"
   ]
  },
  {
   "cell_type": "markdown",
   "id": "1614d301",
   "metadata": {},
   "source": [
    "If you are done looking at the help information for now, but would like to keep it handy for later, you can click the vertical blue bar to the left of the output to collapse the output.  If you click it a second time, it will expand again.\n",
    "\n",
    "*Go back up to your `help(math)` cell and collapse the output.*"
   ]
  },
  {
   "cell_type": "markdown",
   "id": "6b232181",
   "metadata": {},
   "source": [
    "You can also use `help()` on an individual function.\n",
    "\n",
    "*Try out the example below.  What does `log10()` do?*"
   ]
  },
  {
   "cell_type": "code",
   "execution_count": null,
   "id": "100f3d3a",
   "metadata": {},
   "outputs": [],
   "source": [
    "help(np.log10)"
   ]
  },
  {
   "cell_type": "markdown",
   "id": "95eefba4",
   "metadata": {},
   "source": [
    "Today, we introduced:\n",
    "* The basic data types of `int`, `float`, and `str`\n",
    "* Programming syntax, i.e. language rules\n",
    "* How to assign variables\n",
    "* How to use built-in functions\n",
    "* How to import other functions from modules\n",
    "\n",
    "Below are a few practice prompts that bring all this together."
   ]
  },
  {
   "cell_type": "markdown",
   "id": "1d07bc5c",
   "metadata": {},
   "source": [
    "*Fill in the variable definitions to count the number of seconds in a year*"
   ]
  },
  {
   "cell_type": "code",
   "execution_count": null,
   "id": "743055db",
   "metadata": {},
   "outputs": [],
   "source": [
    "days =     # days per year\n",
    "hours =    # hours per day\n",
    "minutes =  # minutes per hour\n",
    "seconds =  # seconds per minute\n",
    "seconds_per_year = "
   ]
  },
  {
   "cell_type": "markdown",
   "id": "05d32ac4",
   "metadata": {},
   "source": [
    "*Create a new variable that contains the number of seconds in pi years*"
   ]
  },
  {
   "cell_type": "code",
   "execution_count": null,
   "id": "ace00d73",
   "metadata": {},
   "outputs": [],
   "source": [
    "# Add code here"
   ]
  },
  {
   "cell_type": "markdown",
   "id": "96ab63a9",
   "metadata": {},
   "source": [
    "*Print a string that says \"I have been alive for __ seconds.\", where __ is filled in with the correct number*"
   ]
  },
  {
   "cell_type": "code",
   "execution_count": null,
   "id": "ca9237d3",
   "metadata": {},
   "outputs": [],
   "source": [
    "# Add code here"
   ]
  },
  {
   "cell_type": "markdown",
   "id": "a4ed4bd2",
   "metadata": {},
   "source": [
    "*Find the square root of the number of seconds per year*"
   ]
  },
  {
   "cell_type": "code",
   "execution_count": null,
   "id": "7d7dfe48",
   "metadata": {},
   "outputs": [],
   "source": [
    "# Add code here"
   ]
  },
  {
   "cell_type": "markdown",
   "id": "f7b7c18b",
   "metadata": {},
   "source": [
    "*Find the mean of the number of seconds in 4.2, 12.6, and 7.5 years*"
   ]
  },
  {
   "cell_type": "code",
   "execution_count": null,
   "id": "47897ad2",
   "metadata": {},
   "outputs": [],
   "source": [
    "# Add code here"
   ]
  },
  {
   "cell_type": "markdown",
   "id": "3c546e58",
   "metadata": {},
   "source": [
    "*Find the smallest integer greater than the number of seconds in one seventeenth of a year*"
   ]
  },
  {
   "cell_type": "code",
   "execution_count": null,
   "id": "0370c813",
   "metadata": {},
   "outputs": [],
   "source": [
    "# Add code here"
   ]
  }
 ],
 "metadata": {
  "kernelspec": {
   "display_name": "base",
   "language": "python",
   "name": "python3"
  },
  "language_info": {
   "codemirror_mode": {
    "name": "ipython",
    "version": 3
   },
   "file_extension": ".py",
   "mimetype": "text/x-python",
   "name": "python",
   "nbconvert_exporter": "python",
   "pygments_lexer": "ipython3",
   "version": "3.10.15"
  }
 },
 "nbformat": 4,
 "nbformat_minor": 5
}
