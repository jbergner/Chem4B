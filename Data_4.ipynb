{
 "cells": [
  {
   "cell_type": "markdown",
   "id": "217d8d47",
   "metadata": {},
   "source": [
    "## Data lesson 4\n",
    "\n",
    "Today we will learn about reading & manipulating data"
   ]
  },
  {
   "cell_type": "code",
   "execution_count": null,
   "id": "3220cbc6",
   "metadata": {},
   "outputs": [],
   "source": [
    "# Add import statements\n",
    "import numpy as np\n",
    "import matplotlib.pyplot as plt"
   ]
  },
  {
   "cell_type": "markdown",
   "id": "e6664e57",
   "metadata": {},
   "source": [
    "#### **Loading data**\n",
    "\n",
    "So far, we have been using fake or manually entered data for our python tasks.\n",
    "\n",
    "Now we will learn how to read in data from a file, like the output of an instrument in lab.\n",
    "\n",
    "A *text file* is any file that can be read by a human being in a text editor (as opposed to binary).\n",
    "\n",
    "It can have different file extensions, like .txt or .csv or .dat.\n",
    "\n",
    "Today we will introduce 3 common ways to read data from a file."
   ]
  },
  {
   "cell_type": "markdown",
   "id": "c25929d4",
   "metadata": {},
   "source": [
    "#### **Reading with python**\n",
    "\n",
    "We can load data into python with the following steps:\n",
    "* `open()` the text file\n",
    "* `readlines()` one at a time\n",
    "* `close()` the file\n",
    "\n",
    "We will demonstrate below with the file `.csv`.  This file format is *comma-separated*: a new column is indicated by a comma.\n",
    "\n",
    "*Open the file first and look at what the content is before we read it into python.*"
   ]
  },
  {
   "cell_type": "code",
   "execution_count": null,
   "id": "ef3dd017",
   "metadata": {},
   "outputs": [],
   "source": [
    "csvfile = open('practice_data.csv')\n",
    "line = csvfile.readline()\n",
    "line"
   ]
  },
  {
   "cell_type": "code",
   "execution_count": null,
   "id": "25ed4b21",
   "metadata": {},
   "outputs": [],
   "source": [
    "line = csvfile.readline()\n",
    "line"
   ]
  },
  {
   "cell_type": "code",
   "execution_count": null,
   "id": "26bbebe1",
   "metadata": {},
   "outputs": [],
   "source": [
    "line = csvfile.readline()\n",
    "line"
   ]
  },
  {
   "cell_type": "markdown",
   "id": "61cdae6a",
   "metadata": {},
   "source": [
    "We have now read the first three lines and printed them.\n",
    "\n",
    "Notice that each time `readline()` is run, it automatically steps to the next line.\n",
    "\n",
    "The output for each line is a string of the comma-separated numbers.  That isn't very useful if we want to do any subsequent tasks with it.  There is also a *newline* character `\\n` at the end of each line that we no longer need."
   ]
  },
  {
   "cell_type": "markdown",
   "id": "ff10b1f1",
   "metadata": {},
   "source": [
    "Let's convert a line to two actual numbers.  \n",
    "\n",
    "Step 1 is to remove the `\\n`.  The simplest way to do this is to `replace()` the character we are getting rid of with an empty string."
   ]
  },
  {
   "cell_type": "code",
   "execution_count": null,
   "id": "2236b148",
   "metadata": {},
   "outputs": [],
   "source": [
    "line_clean = line.replace('\\n', '')\n",
    "line_clean"
   ]
  },
  {
   "cell_type": "markdown",
   "id": "12fc1618",
   "metadata": {},
   "source": [
    "Step 2 is to break the string apart at the comma.  We use `.split()` to specify at which character to break the string apart."
   ]
  },
  {
   "cell_type": "code",
   "execution_count": null,
   "id": "e1fe3e02",
   "metadata": {},
   "outputs": [],
   "source": [
    "line_split = line_clean.split(',')\n",
    "line_split"
   ]
  },
  {
   "cell_type": "markdown",
   "id": "47e8df5e",
   "metadata": {},
   "source": [
    "Step 3 is to turn the resulting strings into numbers.  In this case we use integers, but in other cases you might want to use a float."
   ]
  },
  {
   "cell_type": "code",
   "execution_count": null,
   "id": "31a73523",
   "metadata": {},
   "outputs": [],
   "source": [
    "num_1 = int(line_split[0])\n",
    "num_2 = int(line_split[1])\n",
    "\n",
    "print(num_1)\n",
    "print(num_2)"
   ]
  },
  {
   "cell_type": "markdown",
   "id": "e0d96de5",
   "metadata": {},
   "source": [
    "Once we are done with a file we have opened, it is best practice to close it."
   ]
  },
  {
   "cell_type": "code",
   "execution_count": null,
   "id": "38059555",
   "metadata": {},
   "outputs": [],
   "source": [
    "csvfile.close()"
   ]
  },
  {
   "cell_type": "markdown",
   "id": "419a2585",
   "metadata": {},
   "source": [
    "With this approach we read lines in one at a time and manually turn them into numbers.\n",
    "\n",
    "Below we use a *loop* to do this more efficiently.  We will learn more about these next week!\n",
    "\n",
    "In the meantime, recognize that the code below is opening a file, and then repeating the actions we walked through above so that the first number in each row is stored in one list, and the second number in another list."
   ]
  },
  {
   "cell_type": "code",
   "execution_count": null,
   "id": "a7d67632",
   "metadata": {},
   "outputs": [],
   "source": [
    "# create empty lists\n",
    "months = []\n",
    "days = []\n",
    "\n",
    "csvfile = open('practice_data.csv')      # open file\n",
    "for line in csvfile.readlines():\n",
    "    line_clean = line.replace('\\n', '')  # remove newline character\n",
    "    line_split = line_clean.split(',')   # split into 2 strings around the comma\n",
    "    month = int(line_split[0])           # turn into integer\n",
    "    day = int(line_split[1])\n",
    "\n",
    "    months.append(month)                 # add to list\n",
    "    days.append(day)\n",
    "csvfile.close()                          # close file\n",
    "\n",
    "print(months) \n",
    "print(days)"
   ]
  },
  {
   "cell_type": "markdown",
   "id": "d0a8fd30",
   "metadata": {},
   "source": [
    "The benefit of the line-by-line approach is that it is very customizable, while the drawback is that it is very verbose.\n",
    "\n",
    "We can also use functions loaded from modules to assist us in reading data, which we will discuss next."
   ]
  },
  {
   "cell_type": "markdown",
   "id": "b5a79383",
   "metadata": {},
   "source": [
    "#### **CSV reader**\n",
    "\n",
    "The `csv` module can be useful when you are reading in .csv data.  \n",
    "\n",
    "*Import the `csv` module below.*"
   ]
  },
  {
   "cell_type": "code",
   "execution_count": null,
   "id": "a503335c",
   "metadata": {},
   "outputs": [],
   "source": [
    "# Add code here\n"
   ]
  },
  {
   "cell_type": "markdown",
   "id": "70a96895",
   "metadata": {},
   "source": [
    "As in our last example, we will start by creating empty lists to store the data we are reading in.\n",
    "\n",
    "We will then open the .csv file like before.\n",
    "\n",
    "This time, we will create a `reader` variable with the `csv` module.  Like before, this allows us to step through rows one by one.\n",
    "\n",
    "Unlike before, this will automatically separate the columns within each row."
   ]
  },
  {
   "cell_type": "code",
   "execution_count": null,
   "id": "2691ce3f",
   "metadata": {},
   "outputs": [],
   "source": [
    "months = []\n",
    "days = []\n",
    "\n",
    "csvfile = open('practice_data.csv') # open the file\n",
    "\n",
    "data = csv.reader(csvfile)          # create the csv readier\n",
    "\n",
    "for row in data:                    # step through\n",
    "    months.append(int(row[0]))      # Turn first column into integer & add to list\n",
    "    days.append(int(row[1]))        # Turn second column into integer & add to list\n",
    "\n",
    "csvfile.close()                     # close the file\n",
    "\n",
    "print(months)\n",
    "print(days)"
   ]
  },
  {
   "cell_type": "markdown",
   "id": "c66f0d88",
   "metadata": {},
   "source": [
    "We see that we've ended up with the same result but with somewhat less hands-on work than the built-in python reader.\n",
    "\n",
    "You can also imagine that this would be an efficient way to access specific columns if there are many columns in your .csv file."
   ]
  },
  {
   "cell_type": "markdown",
   "id": "31678730",
   "metadata": {},
   "source": [
    "#### **Reading with NumPy**\n",
    "\n",
    "NumPy contains functions that convert a text file directly into an array.  \n",
    "\n",
    "This is very convenient, though has somewhat less flexibility than the other methods.\n",
    "\n",
    "Today we will use `np.genfromtxt()`.  This takes two arguments: the file name, and a string representing the `delimiter` (in this case a comma).\n",
    "\n",
    "*Try loading the `practice_data.csv` file with `np.genfromtxt()`.*"
   ]
  },
  {
   "cell_type": "code",
   "execution_count": null,
   "id": "5490abd5",
   "metadata": {},
   "outputs": [],
   "source": [
    "# Fill in the file name and the delimiter\n",
    "data = np.genfromtxt( , delimiter= )"
   ]
  },
  {
   "cell_type": "markdown",
   "id": "eb4ebbc2",
   "metadata": {},
   "source": [
    "*What is the number of dimensions, the shape, and the size of your new array?*"
   ]
  },
  {
   "cell_type": "code",
   "execution_count": null,
   "id": "7242941f",
   "metadata": {},
   "outputs": [],
   "source": [
    "# Add code here\n"
   ]
  },
  {
   "cell_type": "markdown",
   "id": "840d8538",
   "metadata": {},
   "source": [
    "*Print out the number of days in the month of July.*"
   ]
  },
  {
   "cell_type": "code",
   "execution_count": null,
   "id": "56966c1d",
   "metadata": {},
   "outputs": [],
   "source": [
    "# Add code here\n"
   ]
  },
  {
   "cell_type": "markdown",
   "id": "cb0f0a22",
   "metadata": {},
   "source": [
    "One useful trick is to *transpose* the array, which means that all of the values within one column are now in one row.  Because of the way that array indexing works, this can make it more convenient to plot the contents of spreadsheet-like data.\n",
    "\n",
    "We do this with the syntax `arrayname.T`"
   ]
  },
  {
   "cell_type": "code",
   "execution_count": null,
   "id": "d3ca821e",
   "metadata": {},
   "outputs": [],
   "source": [
    "data_T = data.T \n",
    "data_T"
   ]
  },
  {
   "cell_type": "markdown",
   "id": "7f345364",
   "metadata": {},
   "source": [
    "*Now make a plot of the number of days per month*"
   ]
  },
  {
   "cell_type": "code",
   "execution_count": null,
   "id": "abb1462a",
   "metadata": {},
   "outputs": [],
   "source": [
    "# Add code here"
   ]
  },
  {
   "cell_type": "markdown",
   "id": "53f9225e",
   "metadata": {},
   "source": [
    "#### **Manipulating data**\n",
    "\n",
    "Let's imagine we have read in some data from an instrument in the lab.\n",
    "\n",
    "We would usually call this \"raw\" data: we need to take some steps to put it into a final form that we can report measurements with.\n",
    "\n",
    "We will use an example IR spectral analysis to walk through some common operations you might need to perform on raw data.\n",
    "\n",
    "*Open the file `spectrum1.txt`. What is the delimiter for this file?  What quantities are stored in the first and second column?*\n",
    "\n",
    "*Now use `np.genfromtxt()` to read in `spectrum1.txt`.*"
   ]
  },
  {
   "cell_type": "code",
   "execution_count": null,
   "id": "c1dfe23a",
   "metadata": {},
   "outputs": [],
   "source": [
    "# Add code here\n",
    "spec_data = np.genfromtxt( , delimiter= )"
   ]
  },
  {
   "cell_type": "markdown",
   "id": "51c64623",
   "metadata": {},
   "source": [
    "*For convenience, let's make one-dimensional arrays to store the x data (wavenumber) and y data (absorbance).*"
   ]
  },
  {
   "cell_type": "code",
   "execution_count": null,
   "id": "06cb7910",
   "metadata": {},
   "outputs": [],
   "source": [
    "# Assign the correct data to these variables\n",
    "wavenumber = \n",
    "absorbance = "
   ]
  },
  {
   "cell_type": "markdown",
   "id": "6f4f86b7",
   "metadata": {},
   "source": [
    "It is often helpful to first plot your raw data to see what you are working with.  \n",
    "\n",
    "*Make a plot of wavenumber versus absorbance.*"
   ]
  },
  {
   "cell_type": "code",
   "execution_count": null,
   "id": "fa0b3547",
   "metadata": {},
   "outputs": [],
   "source": [
    "# Create plot here\n"
   ]
  },
  {
   "cell_type": "markdown",
   "id": "f3017f9b",
   "metadata": {},
   "source": [
    "We are interested in determining the peak absorbance of the band around 15 microns.  Here are the steps we will take to get there:\n",
    "* Convert the x axis units from wavenumber (cm^-1) to wavelength (um)\n",
    "* Subtract off a baseline so that the absorbance = 0 in regions where there are no absorption peaks.\n",
    "* Zoom in on the wavelength range around the band of interest\n",
    "* Find the maximum absorbance in that range\n",
    "* Find the wavelength of maximum absorbance\n",
    "* Bonus: integrate the area under the band"
   ]
  },
  {
   "cell_type": "markdown",
   "id": "14629fb7",
   "metadata": {},
   "source": [
    "*Use array math to calculate the wavelength in micrometers for each wavenumber. Remember that wavenumber is 1/wavelength.*"
   ]
  },
  {
   "cell_type": "code",
   "execution_count": null,
   "id": "047488b1",
   "metadata": {},
   "outputs": [],
   "source": [
    "# Add code here\n",
    "wavelength_cm = \n",
    "wavelength_um = "
   ]
  },
  {
   "cell_type": "markdown",
   "id": "e86e97f1",
   "metadata": {},
   "source": [
    "*Make a plot of wavelength vs. absorbance where you zoom in on the region of the spectrum containing just the peak of interest (~15 um) along with some baseline on either side.*"
   ]
  },
  {
   "cell_type": "code",
   "execution_count": null,
   "id": "ce02be87",
   "metadata": {},
   "outputs": [],
   "source": [
    "# Add code here\n"
   ]
  },
  {
   "cell_type": "markdown",
   "id": "6baa1b44",
   "metadata": {},
   "source": [
    "Now we want to find the indices of our arrays that correspond to this part of the spectrum.  We will use `np.logical_and()` to do this.\n",
    "\n",
    "We will learn more about Boolean logic next week.  In the meantime, you can recognize that the function takes two arguments: the first argument filters for wavelengths above some value, and the second argument filters for wavelengths below a second value.\n",
    "\n",
    "The resulting `idx` corresponds to the indices where both of those conditions are true. \n",
    "\n",
    "*Fill in the missing numbers to select part of the spectrum within some lower & upper wavelength limit.*"
   ]
  },
  {
   "cell_type": "code",
   "execution_count": null,
   "id": "02c275fa",
   "metadata": {},
   "outputs": [],
   "source": [
    "# Fill in missing numbers here\n",
    "idx = np.logical_and(wavelength_um> , wavelength_um< ) "
   ]
  },
  {
   "cell_type": "markdown",
   "id": "41aaa52a",
   "metadata": {},
   "source": [
    "We now want to make new variables to store the wavelength and absorbance values only within the specified range of wavelengths.\n",
    "\n",
    "*Use `[idx]` instead of a number in brackets to select only the elements of interest from your wavelength and absorbance arrays.  Store these as new variables.*"
   ]
  },
  {
   "cell_type": "code",
   "execution_count": null,
   "id": "cea74452",
   "metadata": {},
   "outputs": [],
   "source": [
    "# Add code here\n",
    "wavelength_zoom = \n",
    "absorbance_zoom = "
   ]
  },
  {
   "cell_type": "markdown",
   "id": "972d5c91",
   "metadata": {},
   "source": [
    "*Subtract a constant number from the absorbance array such that the value falls to 0 in parts of the spectrum without an absorption peak.*"
   ]
  },
  {
   "cell_type": "code",
   "execution_count": null,
   "id": "09298d36",
   "metadata": {},
   "outputs": [],
   "source": [
    "# Add code here\n",
    "absorbance_baselined = "
   ]
  },
  {
   "cell_type": "markdown",
   "id": "aa547cb7",
   "metadata": {},
   "source": [
    "Now we want to find the maximum absorbance value within this wavelength range.  \n",
    "\n",
    "*Find the maximum value of the baseline-subtracted absorbance array.*"
   ]
  },
  {
   "cell_type": "code",
   "execution_count": null,
   "id": "284b7da5",
   "metadata": {},
   "outputs": [],
   "source": [
    "# Add code here\n"
   ]
  },
  {
   "cell_type": "markdown",
   "id": "223bce36",
   "metadata": {},
   "source": [
    "Note that if we had taken the maximum of the original absorbance array, it would have corresponded to the peak around 4.3 microns and not our peak of interest at 15 microns.\n",
    "\n",
    "The next step is to find the wavelength value where the peak absorbance occurs.\n",
    "\n",
    "*Find the index corresponding to the peak absorbance value.  Then, print the wavelength at that same index.*"
   ]
  },
  {
   "cell_type": "code",
   "execution_count": null,
   "id": "46b8bfbd",
   "metadata": {},
   "outputs": [],
   "source": [
    "# Add code here"
   ]
  },
  {
   "cell_type": "markdown",
   "id": "9297d4b7",
   "metadata": {},
   "source": [
    "Be careful not to mix indices from your zoomed-in arrays with indices from your original arrays!"
   ]
  },
  {
   "cell_type": "markdown",
   "id": "23dc689d",
   "metadata": {},
   "source": [
    "With all of this information, you could perform a Beer's Law analysis to solve for a concentration based on the measured absorbance at a wavelength of 15.24um.\n",
    "\n",
    "Sometimes it is also necessary to integrate the area under a curve.  We will practice that now using `np.trapz()`, which uses the trapezoid rule.\n",
    "\n",
    "There are many other functions for numerical integration in python.  In particular, the `scipy` library contains many other options and is used commonly in scientific computing.\n",
    "\n",
    "`np.trapz()` has two required arguments: the y values followed by the x values.  Note that this is the opposite of the order used in plotting!\n",
    "\n",
    "*Calculate the area under the peak in your zoomed spectrum.*"
   ]
  },
  {
   "cell_type": "code",
   "execution_count": null,
   "id": "aa4fccd1",
   "metadata": {},
   "outputs": [],
   "source": [
    "# Add code here"
   ]
  },
  {
   "cell_type": "markdown",
   "id": "64f326fc",
   "metadata": {},
   "source": [
    "**To summarize:**\n",
    "We learned today how to read in data using multiple methods and handling multiple text file formats.\n",
    "\n",
    "We practiced using array operations to perform simple conversions and calculations with our measured x and y data.\n",
    "\n",
    "We learned how to identify and extract specifc ranges of interest within the arrays.\n",
    "\n",
    "We learned how to numerically integrate the area under a curve.\n",
    "\n",
    "Next class, we will learn about how to fit models to data."
   ]
  },
  {
   "cell_type": "markdown",
   "id": "f8df56ea",
   "metadata": {},
   "source": [
    "\n",
    "**Try it on your own:**\n",
    "\n",
    "If there is extra time, try performing the same analysis fully on your own for the peak around 3 microns in `spectrum2.txt`."
   ]
  },
  {
   "cell_type": "code",
   "execution_count": null,
   "id": "2f6137e7",
   "metadata": {},
   "outputs": [],
   "source": []
  }
 ],
 "metadata": {
  "kernelspec": {
   "display_name": "base",
   "language": "python",
   "name": "python3"
  },
  "language_info": {
   "codemirror_mode": {
    "name": "ipython",
    "version": 3
   },
   "file_extension": ".py",
   "mimetype": "text/x-python",
   "name": "python",
   "nbconvert_exporter": "python",
   "pygments_lexer": "ipython3",
   "version": "3.10.15"
  }
 },
 "nbformat": 4,
 "nbformat_minor": 5
}
