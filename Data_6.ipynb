{
 "cells": [
  {
   "cell_type": "markdown",
   "id": "217d8d47",
   "metadata": {},
   "source": [
    "## Data lesson 6\n",
    "\n",
    "Today we will learn about making loops & conditionals."
   ]
  },
  {
   "cell_type": "code",
   "execution_count": null,
   "id": "3220cbc6",
   "metadata": {},
   "outputs": [],
   "source": [
    "# Add import statements\n",
    "import numpy as np\n",
    "import matplotlib.pyplot as plt\n",
    "from scipy.optimize import curve_fit"
   ]
  },
  {
   "cell_type": "markdown",
   "id": "6743d55b",
   "metadata": {},
   "source": [
    "#### **Finishing up curve fitting**"
   ]
  },
  {
   "cell_type": "markdown",
   "id": "3ebb7a92",
   "metadata": {},
   "source": [
    "Let's consider fitting a noisy absorption band with a Gaussian profile.  \n",
    "\n",
    "This could be useful if we are trying to determine the peak absorbance and wavelength of peak absorbance, but it is too noisy to read directly off the plot.\n",
    "\n",
    "*Load the data from the file `noisy_spectrum.txt`.  Store the wavelength and absorbance as 1D arrays.  Plot it to check what the data looks like.*"
   ]
  },
  {
   "cell_type": "code",
   "execution_count": null,
   "id": "34078ddf",
   "metadata": {},
   "outputs": [],
   "source": [
    "# Add code here\n",
    "data = np.genfromtxt('noisy_spectrum.txt', delimiter=' ').T\n",
    "wavelength = data[0]\n",
    "absorbance = data[1]\n",
    "\n",
    "plt.plot(wavelength, absorbance)"
   ]
  },
  {
   "cell_type": "markdown",
   "id": "0694089f",
   "metadata": {},
   "source": [
    "Next we will need the function with which to fit our data.\n",
    "\n",
    "*Complete the function for a Gaussian profile using the executable code below, where `xx` is the independent variable.  Be sure your arguments are ordered correctly to use with `curve_fit()`!*"
   ]
  },
  {
   "cell_type": "code",
   "execution_count": null,
   "id": "47266b4a",
   "metadata": {},
   "outputs": [],
   "source": [
    "# Complete the function\n",
    "def gaussian(xx, amplitude, center, width):\n",
    "    ygauss = amplitude*np.exp(-(xx-center)**2/(2*width**2))\n",
    "    return ygauss"
   ]
  },
  {
   "cell_type": "markdown",
   "id": "1a0f5d28",
   "metadata": {},
   "source": [
    "Now try calling curve_fit() using the Gaussian function and the spectral data.   \n",
    "\n",
    "Include the keyword argument `p0=[guess1,guess2,...]`.  The list contains our guesses for the free parameters in the same order as they are listed in the function, in this case: amplitude, center, width."
   ]
  },
  {
   "cell_type": "code",
   "execution_count": null,
   "id": "b6444d29",
   "metadata": {},
   "outputs": [],
   "source": [
    "# Add code here\n",
    "params, pcov = curve_fit(gaussian, wavelength, absorbance, p0=[0.5, 350, 20])\n",
    "params"
   ]
  },
  {
   "cell_type": "markdown",
   "id": "23a960a9",
   "metadata": {},
   "source": [
    "We can make a new array containing the best-fit model of our data.\n",
    "\n",
    "We evaluate the function used to fit the data at each x value in the original data set, and with the best-fit parameters provided by `curve_fit()`.\n",
    "\n",
    "In this case, the function is `gaussian()`, the x data is contained in `wavelength`, and the best-fit parameters are the elements of `params`."
   ]
  },
  {
   "cell_type": "code",
   "execution_count": null,
   "id": "9db11b53",
   "metadata": {},
   "outputs": [],
   "source": [
    "best_model = gaussian(wavelength, params[0], params[1], params[2])"
   ]
  },
  {
   "cell_type": "markdown",
   "id": "e67d9401",
   "metadata": {},
   "source": [
    "*Overplot the best-fit model on top of your measured data.*"
   ]
  },
  {
   "cell_type": "code",
   "execution_count": null,
   "id": "96ff38e9",
   "metadata": {},
   "outputs": [],
   "source": [
    "# Add code here"
   ]
  },
  {
   "cell_type": "markdown",
   "id": "b660f281",
   "metadata": {},
   "source": [
    "There are other features of `curve_fit()` that can come in handy if you have challenging data to fit.  This includes setting bounds on the values of the free parameters and adding an uncertainty specific to each value.  We won't go into detail here, but check out the documentation for more information.\n",
    "\n",
    "Another important note is that our fitting will only describe the data as well as the function will allow it to!  If we use a bad model or equation, then no amount of parameter optimization will make it fit the data.\n",
    "\n",
    "*Try fitting the `noisy_spectrum` data with your `line()` function instead.  Does it give a meaningful answer?*"
   ]
  },
  {
   "cell_type": "code",
   "execution_count": null,
   "id": "c3c85a56",
   "metadata": {},
   "outputs": [],
   "source": [
    "# Add code here"
   ]
  },
  {
   "cell_type": "markdown",
   "id": "d95af332",
   "metadata": {},
   "source": [
    "#### **Try it yourself**\n",
    "\n",
    "Try loading in the file `rate.txt` and fitting the concentration curve to a first-order rate law: [A] = [A]_0 exp(-kt)"
   ]
  },
  {
   "cell_type": "code",
   "execution_count": null,
   "id": "b9dad7d6",
   "metadata": {},
   "outputs": [],
   "source": [
    "# Add code here"
   ]
  },
  {
   "cell_type": "markdown",
   "id": "aa9c18ad",
   "metadata": {},
   "source": [
    "#### **Intro to loops \\& conditional statements**\n",
    "\n",
    "We can add logic to our programs to make them more efficient.  Today we will cover:\n",
    "* Conditions: set a criteria for whether a piece of code is executed or not\n",
    "* Loops: execute the same block of code repeatedly\n",
    "\n",
    "First, we need to learn some basics of Boolean logic."
   ]
  },
  {
   "cell_type": "markdown",
   "id": "80146973",
   "metadata": {},
   "source": [
    "#### **Boolean logic**\n",
    "\n",
    "A Boolean expression is used to test the truth of some statement.  \n",
    "\n",
    "It evaluated as either `True` or `False`.\n",
    "\n",
    "We implement Boolean expressions using specific operators.\n",
    "\n",
    "*Test the truth of the following statements by running each cell.*"
   ]
  },
  {
   "cell_type": "code",
   "execution_count": null,
   "id": "98e8e34b",
   "metadata": {},
   "outputs": [],
   "source": [
    "7 == 2"
   ]
  },
  {
   "cell_type": "markdown",
   "id": "05f0dcd9",
   "metadata": {},
   "source": [
    "This cell \"asserts\" that the first number (7) is equal to the second number (2).  A double equals sign `==` is used to indicate that we are testing whether the two numbers are equal.\n",
    "\n",
    "The output reflects whether that assertion is `True` or `False`.\n",
    "\n",
    "In this case, 7 does not equal 2, so the statement is declared `False`."
   ]
  },
  {
   "cell_type": "code",
   "execution_count": null,
   "id": "55d8d92a",
   "metadata": {},
   "outputs": [],
   "source": [
    "4 > 3"
   ]
  },
  {
   "cell_type": "markdown",
   "id": "a5991a13",
   "metadata": {},
   "source": [
    "This cell asserts that 4 is greater than 3.  The output, `True`, reflects that this statement is true."
   ]
  },
  {
   "cell_type": "markdown",
   "id": "38cc318b",
   "metadata": {},
   "source": [
    "Here are some common Boolean operators that we can use to evaluate the truth of a statement:\n",
    "* `==`: equal\n",
    "* `!=`: not equal\n",
    "* `<=`: less than or equal\n",
    "* `>=`: greater than or equal\n",
    "* `<`: less than\n",
    "* `>`: greater than\n",
    "\n",
    "*Test whether 4x12 is less than or equal to 3x14*"
   ]
  },
  {
   "cell_type": "code",
   "execution_count": null,
   "id": "93e641cc",
   "metadata": {},
   "outputs": [],
   "source": [
    "# Add code here"
   ]
  },
  {
   "cell_type": "markdown",
   "id": "eaf8a7bc",
   "metadata": {},
   "source": [
    "*Test whether the square root of 4096 is equal to 8 squared*"
   ]
  },
  {
   "cell_type": "code",
   "execution_count": null,
   "id": "ba015e98",
   "metadata": {},
   "outputs": [],
   "source": [
    "# Add code here"
   ]
  },
  {
   "cell_type": "markdown",
   "id": "59a7ea59",
   "metadata": {},
   "source": [
    "We can make **compound comparisons** by evaluating the truth of multiple statements simultaneously.\n",
    "\n",
    "To do so we use the logic operators:\n",
    "* `and` : returns `True` only if both inputs are `True`\n",
    "* `or` : returns `True` if either input is `True`"
   ]
  },
  {
   "cell_type": "code",
   "execution_count": null,
   "id": "61468d37",
   "metadata": {},
   "outputs": [],
   "source": [
    "# and returns True if both inputs are True\n",
    "10 > 4 and 20 > 10"
   ]
  },
  {
   "cell_type": "code",
   "execution_count": null,
   "id": "d6e0891a",
   "metadata": {},
   "outputs": [],
   "source": [
    "# and returns False if either input is False\n",
    "10 > 4 and 10 < 4"
   ]
  },
  {
   "cell_type": "code",
   "execution_count": null,
   "id": "01b4b39e",
   "metadata": {},
   "outputs": [],
   "source": [
    "# or returns True if either input is True\n",
    "10 > 4 or 10 < 4"
   ]
  },
  {
   "cell_type": "code",
   "execution_count": null,
   "id": "da03f56c",
   "metadata": {},
   "outputs": [],
   "source": [
    "# or returns False if neither input is True\n",
    "10 > 20 or 10 > 30"
   ]
  },
  {
   "cell_type": "markdown",
   "id": "b0241d32",
   "metadata": {},
   "source": [
    "We can perform Boolean operations on arrays as well as individual values.\n",
    "\n",
    "*What do you think will happen in the cell below?*"
   ]
  },
  {
   "cell_type": "code",
   "execution_count": null,
   "id": "21858e3b",
   "metadata": {},
   "outputs": [],
   "source": [
    "array = np.linspace(0,10,11)\n",
    "array > 4"
   ]
  },
  {
   "cell_type": "markdown",
   "id": "56efd28e",
   "metadata": {},
   "source": [
    "*Evaluate where `array` is less than 8*"
   ]
  },
  {
   "cell_type": "code",
   "execution_count": null,
   "id": "e78a7698",
   "metadata": {},
   "outputs": [],
   "source": [
    "# Add code here"
   ]
  },
  {
   "cell_type": "markdown",
   "id": "567e7dbb",
   "metadata": {},
   "source": [
    "For compound comparisons with arrays we need to use special functions.  \n",
    "\n",
    "Remember back in Data lesson 4 when we selected wavelengths within the range 14-16 um?\n",
    "\n",
    "`idx = np.logical_and(wavelength_um>14, wavelength_um<16)`\n",
    "\n",
    "Now you can recognize that this is a Boolean `and` operation that involves identifying the indices where both of the following statements are true:\n",
    "* wavelength_um>14\n",
    "* wavelength_um<16\n",
    "\n",
    "*Use `np.logical_and()` to determine where `array` is greater than 4 and less than 8*"
   ]
  },
  {
   "cell_type": "code",
   "execution_count": null,
   "id": "ebaa7da7",
   "metadata": {},
   "outputs": [],
   "source": [
    "# Add code here"
   ]
  },
  {
   "cell_type": "markdown",
   "id": "159bff7b",
   "metadata": {},
   "source": [
    "A summary of helpful numpy functions for Boolean operations:\n",
    "* np.logical_and() : evaluates `True` for each element where both inputs are `True`\n",
    "* np.logical_or() : evaluates `True` for each element where at least one input is `True`\n",
    "* np.where() : allows the user to specify a customized set of truth conditions"
   ]
  },
  {
   "cell_type": "markdown",
   "id": "c1356998",
   "metadata": {},
   "source": [
    "#### **Conditions**\n",
    "\n",
    "What is the use of truth testing different statements with Boolean logic?\n",
    "\n",
    "We can use this to specify **conditions** for whether a certain block of code is executed or not.\n",
    "\n",
    "We can do so using an `if` statement.\n",
    "\n",
    "The general format for an `if` statement is:\n",
    "* `if` followed by a Boolean statement followed by a colon `:`\n",
    "* Indented block of code to be executed only  if Boolean statement evaluates to `True`"
   ]
  },
  {
   "cell_type": "code",
   "execution_count": null,
   "id": "2563d57c",
   "metadata": {},
   "outputs": [],
   "source": [
    "pH = 5\n",
    "if pH > 7:\n",
    "    print(\"The solution is basic!\")"
   ]
  },
  {
   "cell_type": "code",
   "execution_count": null,
   "id": "c46610c0",
   "metadata": {},
   "outputs": [],
   "source": [
    "pH = 8\n",
    "if pH > 7:\n",
    "    print(\"The solution is basic!\")"
   ]
  },
  {
   "cell_type": "markdown",
   "id": "8a9d6eb2",
   "metadata": {},
   "source": [
    "The message only printed in the case when the Boolean statement was `True`.\n",
    "\n",
    "We often wish to specify an alternative course of action for when the Boolean statement evaluates to `False`.\n",
    "\n",
    "We can do so by adding an `else` statement."
   ]
  },
  {
   "cell_type": "code",
   "execution_count": null,
   "id": "f8357f8f",
   "metadata": {},
   "outputs": [],
   "source": [
    "pH = 5\n",
    "if pH > 7:\n",
    "    print(\"The solution is basic!\")\n",
    "else:\n",
    "    print(\"The solution is not basic!\")"
   ]
  },
  {
   "cell_type": "markdown",
   "id": "c80c58bd",
   "metadata": {},
   "source": [
    "Now you can see that although the `if` statement is `False`, we still have executed the code within the `else` statement.\n",
    "\n",
    "If you want to add an additional condition you can use an `elif` statement, or \"else if\".\n",
    "\n",
    "*Try changing the pH value defined below and see what happens.*"
   ]
  },
  {
   "cell_type": "code",
   "execution_count": null,
   "id": "a1f3418d",
   "metadata": {},
   "outputs": [],
   "source": [
    "pH = 5\n",
    "if pH > 7:\n",
    "    print(\"The solution is basic!\")\n",
    "elif pH == 7:\n",
    "    print(\"The solution is neutral!\")\n",
    "else:\n",
    "    print(\"The solution is acidic!\")"
   ]
  },
  {
   "cell_type": "markdown",
   "id": "86a17565",
   "metadata": {},
   "source": [
    "The `elif` block of code runs when the `if` statement is `False` and the `elif` statement is `True`.\n",
    "\n",
    "The `else` statement runs when both the `if` and `elif` statements are `False`.\n",
    "\n",
    "You do not need an `else` statement and could use only `if` and `elif` statements if you wish to take no action when your conditions are all `False`.\n",
    "\n",
    "*Construct some conditional code to `print()` a string telling you whether a variable `number` is positive, negative, or 0.*"
   ]
  },
  {
   "cell_type": "code",
   "execution_count": null,
   "id": "9c242efc",
   "metadata": {},
   "outputs": [],
   "source": [
    "# Add code here"
   ]
  },
  {
   "cell_type": "markdown",
   "id": "556b6d8e",
   "metadata": {},
   "source": [
    "#### **Loops**\n",
    "\n",
    "Loops allow us to execute the same block of code repeatedly.\n",
    "\n",
    "To do so we **iterate** over some sequence like a list or array.\n",
    "\n",
    "A `for` loop has the general structure:\n",
    "\n",
    "`for variable in iterable:`\n",
    "\n",
    "        executable code\n",
    "\n",
    "Note that the first line of the `for` loop must end with a colon and the body must be indented.\n",
    "\n"
   ]
  },
  {
   "cell_type": "code",
   "execution_count": null,
   "id": "42f0ca2d",
   "metadata": {},
   "outputs": [],
   "source": [
    "for x in [0,1,2]:\n",
    "    print(x*2)"
   ]
  },
  {
   "cell_type": "markdown",
   "id": "ae29a566",
   "metadata": {},
   "source": [
    "In the example above:\n",
    "* x is the `variable` that is used within the executable part of the code.  \n",
    "* `iterable` is the sequence (list) containing all values to be looped over.\n",
    "* During the `for` loop, each element in the list is assigned to the `variable` (x) and the code is then executed.\n",
    "\n",
    "This is equivalent to the following, but much more compact and scalable."
   ]
  },
  {
   "cell_type": "code",
   "execution_count": null,
   "id": "c712a85d",
   "metadata": {},
   "outputs": [],
   "source": [
    "print(0*2)\n",
    "print(1*2)\n",
    "print(2*2)"
   ]
  },
  {
   "cell_type": "markdown",
   "id": "7b75ee59",
   "metadata": {},
   "source": [
    "The original values within the `iterable` list or array are not modified directly in a `for` loop.  \n",
    "\n",
    "Also, any variables assigned within a `for` loop will be overwritten each time it is run."
   ]
  },
  {
   "cell_type": "code",
   "execution_count": null,
   "id": "28df48c6",
   "metadata": {},
   "outputs": [],
   "source": [
    "integers = [1,2,3,4] # define iterable\n",
    "for x in integers:   # loop over integers\n",
    "    square = x**2    # execute code\n",
    "    \n",
    "print(integers)\n",
    "print(square)"
   ]
  },
  {
   "cell_type": "markdown",
   "id": "af9d5871",
   "metadata": {},
   "source": [
    "We must create a new list or array to store the values of any quantity calculated in a `for` loop.\n",
    "\n",
    "The list method `append()` is very helpful for adding a new element to a list during each iteration of the `for` loop."
   ]
  },
  {
   "cell_type": "code",
   "execution_count": null,
   "id": "49c90b23",
   "metadata": {},
   "outputs": [],
   "source": [
    "integers = [1,2,3,4]        # define iterable\n",
    "squares = []                # define empty list to store results\n",
    "for x in integers:          # loop over integers\n",
    "    square = x**2           # execute code\n",
    "    squares.append(square)  # add result to list of results\n",
    "    \n",
    "print(squares)"
   ]
  },
  {
   "cell_type": "markdown",
   "id": "ed67a2da",
   "metadata": {},
   "source": [
    "The body of a loop can contain many statements.\n",
    "\n",
    "*For each element in `integers`, print both x squared and the square root of x.*"
   ]
  },
  {
   "cell_type": "code",
   "execution_count": null,
   "id": "fc42e6f2",
   "metadata": {},
   "outputs": [],
   "source": [
    "# Add code here"
   ]
  },
  {
   "cell_type": "markdown",
   "id": "a3e715bc",
   "metadata": {},
   "source": [
    "It is convenient to use the built-in function `range()` to iterate over a sequence of numbers.\n",
    "\n",
    "With `range()` we do not need to pre-define the list to be iterated over: it produces a sequence of integers on-the-fly.\n",
    "\n",
    "`range(stop)` provides the integers from `0` to `stop-1`.\n",
    "\n",
    "`range(start, stop)` provides the integers from `start` to `stop-1`."
   ]
  },
  {
   "cell_type": "code",
   "execution_count": null,
   "id": "56ece9dc",
   "metadata": {},
   "outputs": [],
   "source": [
    "for n in range(5):\n",
    "    print(n)"
   ]
  },
  {
   "cell_type": "code",
   "execution_count": null,
   "id": "d8d2e51f",
   "metadata": {},
   "outputs": [],
   "source": [
    "for n in range(3,8):\n",
    "    print(n)"
   ]
  },
  {
   "cell_type": "markdown",
   "id": "3510a2a8",
   "metadata": {},
   "source": [
    "`range()` can be used to conveniently perform an action a specified number of times.  \n",
    "\n",
    "In this case the values provided by `range()` do not need to be used within the executable part of the code."
   ]
  },
  {
   "cell_type": "code",
   "execution_count": null,
   "id": "2451e4b1",
   "metadata": {},
   "outputs": [],
   "source": [
    "number = 0\n",
    "for n in range(4):\n",
    "    number = number + 3 # n is not used within executable part of code\n",
    "\n",
    "number"
   ]
  },
  {
   "cell_type": "markdown",
   "id": "cf6135aa",
   "metadata": {},
   "source": [
    "The other main type of loop is the `while` loop.  \n",
    "\n",
    "This combines looping with a conditional statement.\n",
    "\n",
    "A `while` loop will iterate the executable block of code as long as the condition is being met.\n",
    "\n",
    "It uses the same format as an `if` statement."
   ]
  },
  {
   "cell_type": "code",
   "execution_count": null,
   "id": "e6ad5335",
   "metadata": {},
   "outputs": [],
   "source": [
    "count = 0\n",
    "while count < 4:\n",
    "  print(count)\n",
    "  count += 1"
   ]
  },
  {
   "cell_type": "markdown",
   "id": "572fd4c3",
   "metadata": {},
   "source": [
    "The code will execute as long as the Boolean statement `count < 4` is `True`.\n",
    "\n",
    "Each iteration, `count` is increased by an increment of 1.\n",
    "\n",
    "Therefore, after 4 iterations, `count` is equal to 4, the Boolean cndition is no longer `True`, and the code stops executing.\n",
    "\n",
    "**A word of caution:** it is easy to set up a `while` loop that will never terminate.  Be careful about setting up your condition and, in general, it is safer to use `for` loops when possible!"
   ]
  },
  {
   "cell_type": "markdown",
   "id": "38111fd9",
   "metadata": {},
   "source": [
    "#### **Conditionals inside of loops**\n",
    "\n",
    "Loops and conditional statements can become much more useful when combined!\n",
    "\n",
    "We can define a set of values, step through each one, and perform a different action depending on some conditional criteria.\n",
    "\n",
    "Suppose we are observing a species of frog in the wild and wish to count the number of frogs in large vs. small size bins.\n",
    "\n",
    "*Look at the code below and see if you can identify what it is doing*"
   ]
  },
  {
   "cell_type": "code",
   "execution_count": null,
   "id": "734936c6",
   "metadata": {},
   "outputs": [],
   "source": [
    "frog_masses = [17.1, 4.3, 5.6, 12.4, 22.7, 5.9, 14.6, 3.9]\n",
    "\n",
    "small_frogs = []\n",
    "large_frogs = []\n",
    "for mass in frog_masses:\n",
    "    if mass > 14:\n",
    "        large_frogs.append(mass)\n",
    "    else:\n",
    "       small_frogs.append(mass)\n",
    "\n",
    "print(small_frogs)\n",
    "print(large_frogs)"
   ]
  },
  {
   "cell_type": "markdown",
   "id": "871a8727",
   "metadata": {},
   "source": [
    "*Create a new list containing zeroes where the original list’s values were negative and ones where the original list's values were positive.*"
   ]
  },
  {
   "cell_type": "code",
   "execution_count": null,
   "id": "a6207ca0",
   "metadata": {},
   "outputs": [],
   "source": [
    "original_list = [-1.5, 0.2, 0.4, 0.0, -1.3, 0.4]\n"
   ]
  },
  {
   "cell_type": "markdown",
   "id": "75e2b7ba",
   "metadata": {},
   "source": [
    "Sometimes we have two related lists or arrays (like wavelength and absorbance) and we wish to use a value from one list for assessing the conditional statement, and a value from another list in the executable part of code.\n",
    "\n",
    "In this case, we could use `range()` to iterate over the indices of the lists and perform different tasks with the same position in each list.\n",
    "\n",
    "Calling `range(len(list))` for some `list` iterates over all indices in the list.\n",
    "\n",
    "In the example below, we create `new_list` which contains:\n",
    "* The value of `list2` for all positions where `list1` is greater than 0.5.\n",
    "* Twice the value of `list2` for all positions where `list1` is less than or equal to 0.5."
   ]
  },
  {
   "cell_type": "code",
   "execution_count": null,
   "id": "5eb6bc07",
   "metadata": {},
   "outputs": [],
   "source": [
    "list1 = np.random.random(10)       # define list 1\n",
    "list2 = np.arange(0,10,1)          # define list 2\n",
    "\n",
    "new_list = []                      # create list to store new values\n",
    "for n in range(len(list1)):        # iterate through all indices in list1\n",
    "    if list1[n] > 0.5:             \n",
    "        new_list.append(list2[n]) \n",
    "    else:\n",
    "        new_list.append(list2[n]*2) \n",
    "\n",
    "new_list"
   ]
  },
  {
   "cell_type": "markdown",
   "id": "215a1dd5",
   "metadata": {},
   "source": [
    "Try it yourself: create a new list based on the values contained in `flags` and `values`:\n",
    "* All values flagged as \"good\" are added to the new list\n",
    "* All values flagged as \"bad\" are replaced with a 0"
   ]
  },
  {
   "cell_type": "code",
   "execution_count": null,
   "id": "9ead7efe",
   "metadata": {},
   "outputs": [],
   "source": [
    "# Add code below\n",
    "flags = [\"good\", \"good\", \"good\", \"bad\", \"good\", \"bad\", \"good\", \"good\", \"bad\"]\n",
    "values = [0.9, 16.1, 16.6, 15.2,  3.2,  7.1,  8.9, 0.4, 0.2]\n"
   ]
  }
 ],
 "metadata": {
  "kernelspec": {
   "display_name": "base",
   "language": "python",
   "name": "python3"
  },
  "language_info": {
   "codemirror_mode": {
    "name": "ipython",
    "version": 3
   },
   "file_extension": ".py",
   "mimetype": "text/x-python",
   "name": "python",
   "nbconvert_exporter": "python",
   "pygments_lexer": "ipython3",
   "version": "3.10.15"
  }
 },
 "nbformat": 4,
 "nbformat_minor": 5
}
